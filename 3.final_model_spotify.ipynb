{
 "cells": [
  {
   "cell_type": "code",
   "execution_count": 0,
   "metadata": {
    "application/vnd.databricks.v1+cell": {
     "cellMetadata": {},
     "inputWidgets": {},
     "nuid": "1fda809d-0d25-4692-a642-d0e766c00eff",
     "showTitle": false,
     "title": ""
    }
   },
   "outputs": [],
   "source": [
    "## Convert into Spark DataFrame\n",
    "spotify_spdf = spark.read.table('spotify')"
   ]
  },
  {
   "cell_type": "code",
   "execution_count": 0,
   "metadata": {
    "application/vnd.databricks.v1+cell": {
     "cellMetadata": {},
     "inputWidgets": {},
     "nuid": "4257e4a1-09ed-48f3-82ad-b6806c3d5fbf",
     "showTitle": false,
     "title": ""
    }
   },
   "outputs": [
    {
     "output_type": "display_data",
     "data": {
      "text/html": [
       "<style scoped>\n",
       "  .table-result-container {\n",
       "    max-height: 300px;\n",
       "    overflow: auto;\n",
       "  }\n",
       "  table, th, td {\n",
       "    border: 1px solid black;\n",
       "    border-collapse: collapse;\n",
       "  }\n",
       "  th, td {\n",
       "    padding: 5px;\n",
       "  }\n",
       "  th {\n",
       "    text-align: left;\n",
       "  }\n",
       "</style><div class='table-result-container'><table class='table-result'><thead style='background-color: white'><tr><th>_1</th><th>_2</th></tr></thead><tbody><tr><td>session_position</td><td>float</td></tr><tr><td>session_length</td><td>float</td></tr><tr><td>context_switch</td><td>float</td></tr><tr><td>no_pause_before_play</td><td>float</td></tr><tr><td>hist_user_behavior_n_seekfwd</td><td>float</td></tr><tr><td>hist_user_behavior_n_seekback</td><td>float</td></tr><tr><td>hist_user_behavior_is_shuffle</td><td>float</td></tr><tr><td>hour_of_day</td><td>float</td></tr><tr><td>premium</td><td>float</td></tr><tr><td>context_type</td><td>string</td></tr><tr><td>skipped</td><td>int</td></tr><tr><td>duration</td><td>float</td></tr><tr><td>release_year</td><td>float</td></tr><tr><td>us_popularity_estimate</td><td>float</td></tr><tr><td>acousticness</td><td>float</td></tr><tr><td>bounciness</td><td>float</td></tr><tr><td>energy</td><td>float</td></tr><tr><td>flatness</td><td>float</td></tr><tr><td>instrumentalness</td><td>float</td></tr><tr><td>key</td><td>float</td></tr><tr><td>liveness</td><td>float</td></tr><tr><td>loudness</td><td>float</td></tr><tr><td>mechanism</td><td>float</td></tr><tr><td>mode</td><td>float</td></tr><tr><td>organism</td><td>float</td></tr><tr><td>speechiness</td><td>float</td></tr><tr><td>tempo</td><td>float</td></tr><tr><td>time_signature</td><td>float</td></tr><tr><td>valence</td><td>float</td></tr><tr><td>acoustic_vector_0</td><td>float</td></tr><tr><td>acoustic_vector_1</td><td>float</td></tr><tr><td>acoustic_vector_2</td><td>float</td></tr><tr><td>acoustic_vector_3</td><td>float</td></tr><tr><td>acoustic_vector_4</td><td>float</td></tr><tr><td>acoustic_vector_5</td><td>float</td></tr><tr><td>acoustic_vector_6</td><td>float</td></tr><tr><td>acoustic_vector_7</td><td>float</td></tr><tr><td>previous_no_pause_before_play</td><td>float</td></tr><tr><td>previous_short_pause_before_play</td><td>float</td></tr><tr><td>previous_long_pause_before_play</td><td>float</td></tr><tr><td>previous_hist_user_behavior_n_seekfwd</td><td>float</td></tr><tr><td>previous_hist_user_behavior_n_seekback</td><td>float</td></tr><tr><td>previous_hist_user_behavior_is_shuffle</td><td>float</td></tr><tr><td>previous_hist_user_behavior_reason_start</td><td>string</td></tr><tr><td>previous_hist_user_behavior_reason_end</td><td>string</td></tr><tr><td>previous_skipped</td><td>float</td></tr><tr><td>previous_duration</td><td>float</td></tr><tr><td>previous_release_year</td><td>float</td></tr><tr><td>previous_us_popularity_estimate</td><td>float</td></tr><tr><td>previous_acousticness</td><td>float</td></tr><tr><td>previous_beat_strength</td><td>float</td></tr><tr><td>previous_bounciness</td><td>float</td></tr><tr><td>previous_danceability</td><td>float</td></tr><tr><td>previous_dyn_range_mean</td><td>float</td></tr><tr><td>previous_energy</td><td>float</td></tr><tr><td>previous_flatness</td><td>float</td></tr><tr><td>previous_instrumentalness</td><td>float</td></tr><tr><td>previous_key</td><td>float</td></tr><tr><td>previous_liveness</td><td>float</td></tr><tr><td>previous_loudness</td><td>float</td></tr><tr><td>previous_mechanism</td><td>float</td></tr><tr><td>previous_mode</td><td>float</td></tr><tr><td>previous_organism</td><td>float</td></tr><tr><td>previous_speechiness</td><td>float</td></tr><tr><td>previous_tempo</td><td>float</td></tr><tr><td>previous_time_signature</td><td>float</td></tr><tr><td>previous_valence</td><td>float</td></tr><tr><td>previous_acoustic_vector_0</td><td>float</td></tr><tr><td>previous_acoustic_vector_1</td><td>float</td></tr><tr><td>previous_acoustic_vector_2</td><td>float</td></tr><tr><td>previous_acoustic_vector_3</td><td>float</td></tr><tr><td>previous_acoustic_vector_4</td><td>float</td></tr><tr><td>previous_acoustic_vector_5</td><td>float</td></tr><tr><td>previous_acoustic_vector_6</td><td>float</td></tr><tr><td>previous_acoustic_vector_7</td><td>float</td></tr><tr><td>day_of_week</td><td>float</td></tr></tbody></table></div>"
      ]
     },
     "metadata": {
      "application/vnd.databricks.v1+output": {
       "addedWidgets": {},
       "aggData": [],
       "aggError": "",
       "aggOverflow": false,
       "aggSchema": [],
       "aggSeriesLimitReached": false,
       "aggType": "",
       "arguments": {},
       "columnCustomDisplayInfos": {},
       "data": [
        [
         "session_position",
         "float"
        ],
        [
         "session_length",
         "float"
        ],
        [
         "context_switch",
         "float"
        ],
        [
         "no_pause_before_play",
         "float"
        ],
        [
         "hist_user_behavior_n_seekfwd",
         "float"
        ],
        [
         "hist_user_behavior_n_seekback",
         "float"
        ],
        [
         "hist_user_behavior_is_shuffle",
         "float"
        ],
        [
         "hour_of_day",
         "float"
        ],
        [
         "premium",
         "float"
        ],
        [
         "context_type",
         "string"
        ],
        [
         "skipped",
         "int"
        ],
        [
         "duration",
         "float"
        ],
        [
         "release_year",
         "float"
        ],
        [
         "us_popularity_estimate",
         "float"
        ],
        [
         "acousticness",
         "float"
        ],
        [
         "bounciness",
         "float"
        ],
        [
         "energy",
         "float"
        ],
        [
         "flatness",
         "float"
        ],
        [
         "instrumentalness",
         "float"
        ],
        [
         "key",
         "float"
        ],
        [
         "liveness",
         "float"
        ],
        [
         "loudness",
         "float"
        ],
        [
         "mechanism",
         "float"
        ],
        [
         "mode",
         "float"
        ],
        [
         "organism",
         "float"
        ],
        [
         "speechiness",
         "float"
        ],
        [
         "tempo",
         "float"
        ],
        [
         "time_signature",
         "float"
        ],
        [
         "valence",
         "float"
        ],
        [
         "acoustic_vector_0",
         "float"
        ],
        [
         "acoustic_vector_1",
         "float"
        ],
        [
         "acoustic_vector_2",
         "float"
        ],
        [
         "acoustic_vector_3",
         "float"
        ],
        [
         "acoustic_vector_4",
         "float"
        ],
        [
         "acoustic_vector_5",
         "float"
        ],
        [
         "acoustic_vector_6",
         "float"
        ],
        [
         "acoustic_vector_7",
         "float"
        ],
        [
         "previous_no_pause_before_play",
         "float"
        ],
        [
         "previous_short_pause_before_play",
         "float"
        ],
        [
         "previous_long_pause_before_play",
         "float"
        ],
        [
         "previous_hist_user_behavior_n_seekfwd",
         "float"
        ],
        [
         "previous_hist_user_behavior_n_seekback",
         "float"
        ],
        [
         "previous_hist_user_behavior_is_shuffle",
         "float"
        ],
        [
         "previous_hist_user_behavior_reason_start",
         "string"
        ],
        [
         "previous_hist_user_behavior_reason_end",
         "string"
        ],
        [
         "previous_skipped",
         "float"
        ],
        [
         "previous_duration",
         "float"
        ],
        [
         "previous_release_year",
         "float"
        ],
        [
         "previous_us_popularity_estimate",
         "float"
        ],
        [
         "previous_acousticness",
         "float"
        ],
        [
         "previous_beat_strength",
         "float"
        ],
        [
         "previous_bounciness",
         "float"
        ],
        [
         "previous_danceability",
         "float"
        ],
        [
         "previous_dyn_range_mean",
         "float"
        ],
        [
         "previous_energy",
         "float"
        ],
        [
         "previous_flatness",
         "float"
        ],
        [
         "previous_instrumentalness",
         "float"
        ],
        [
         "previous_key",
         "float"
        ],
        [
         "previous_liveness",
         "float"
        ],
        [
         "previous_loudness",
         "float"
        ],
        [
         "previous_mechanism",
         "float"
        ],
        [
         "previous_mode",
         "float"
        ],
        [
         "previous_organism",
         "float"
        ],
        [
         "previous_speechiness",
         "float"
        ],
        [
         "previous_tempo",
         "float"
        ],
        [
         "previous_time_signature",
         "float"
        ],
        [
         "previous_valence",
         "float"
        ],
        [
         "previous_acoustic_vector_0",
         "float"
        ],
        [
         "previous_acoustic_vector_1",
         "float"
        ],
        [
         "previous_acoustic_vector_2",
         "float"
        ],
        [
         "previous_acoustic_vector_3",
         "float"
        ],
        [
         "previous_acoustic_vector_4",
         "float"
        ],
        [
         "previous_acoustic_vector_5",
         "float"
        ],
        [
         "previous_acoustic_vector_6",
         "float"
        ],
        [
         "previous_acoustic_vector_7",
         "float"
        ],
        [
         "day_of_week",
         "float"
        ]
       ],
       "datasetInfos": [],
       "dbfsResultPath": null,
       "isJsonSchema": true,
       "metadata": {},
       "overflow": false,
       "plotOptions": {
        "customPlotOptions": {},
        "displayType": "table",
        "pivotAggregation": null,
        "pivotColumns": null,
        "xColumns": null,
        "yColumns": null
       },
       "removedWidgets": [],
       "schema": [
        {
         "metadata": "{}",
         "name": "_1",
         "type": "\"string\""
        },
        {
         "metadata": "{}",
         "name": "_2",
         "type": "\"string\""
        }
       ],
       "type": "table"
      }
     },
     "output_type": "display_data"
    }
   ],
   "source": [
    "test_spdf = spark.read.format(\"parquet\").load(\"dbfs:/dbfs/test_spdf\")\n",
    "display(test_spdf.dtypes)"
   ]
  },
  {
   "cell_type": "code",
   "execution_count": 0,
   "metadata": {
    "application/vnd.databricks.v1+cell": {
     "cellMetadata": {},
     "inputWidgets": {},
     "nuid": "d4606f31-9f05-4e7a-bdd8-e4f536bfe71a",
     "showTitle": false,
     "title": ""
    }
   },
   "outputs": [],
   "source": [
    "from pyspark.ml import PipelineModel\n",
    "Model = PipelineModel.load(\"dbfs:/dbfs/final_model\")\n"
   ]
  },
  {
   "cell_type": "code",
   "execution_count": 0,
   "metadata": {
    "application/vnd.databricks.v1+cell": {
     "cellMetadata": {},
     "inputWidgets": {},
     "nuid": "a3016aa9-9b33-429a-b716-a3c0b43484a3",
     "showTitle": false,
     "title": ""
    }
   },
   "outputs": [
    {
     "output_type": "display_data",
     "data": {
      "application/vnd.databricks.v1+bamboolib_hint": "{\"pd.DataFrames\": [], \"version\": \"0.0.1\"}",
      "text/plain": []
     },
     "metadata": {},
     "output_type": "display_data"
    }
   ],
   "source": [
    "from __future__ import division\n",
    "\n",
    "# import necessary libs\n",
    "import numpy  as np\n",
    "import pandas as pd\n",
    "\n",
    "# general spark modules\n",
    "from pyspark.sql import Row\n",
    "from pyspark.sql.types import *\n",
    "from pyspark.sql.functions import *\n",
    "from pyspark.sql.functions import lit\n",
    "\n",
    "# spark ml modules \n",
    "from pyspark.ml.linalg import DenseVector\n",
    "from pyspark.ml.feature import StandardScaler\n",
    "\n",
    "from pyspark.ml.tuning import CrossValidator, ParamGridBuilder\n",
    "from pyspark.ml.evaluation import RegressionEvaluator\n",
    "from pyspark.ml import Pipeline\n",
    "from pyspark.ml.feature import VectorIndexer\n",
    "\n",
    "from pyspark.ml import Pipeline\n",
    "from pyspark.ml.feature import OneHotEncoder, StringIndexer, VectorAssembler\n",
    "\n",
    "# classification \n",
    "from pyspark.ml.classification import LogisticRegression\n",
    "from pyspark.ml.classification import DecisionTreeClassifier\n",
    "from pyspark.ml.classification import RandomForestClassifier\n",
    "from pyspark.ml.classification import GBTClassifier\n",
    "from pyspark.ml.classification import LinearSVC\n",
    "from pyspark.ml.classification import NaiveBayes\n",
    "from pyspark.ml.feature import VectorAssembler, StandardScaler, PCA\n",
    "\n",
    "\n",
    "from pyspark.ml.evaluation import BinaryClassificationEvaluator\n",
    "from pyspark.ml.evaluation import MulticlassClassificationEvaluator\n",
    "import time\n",
    "import itertools\n",
    "import mlflow\n",
    "import mlflow.pyfunc\n",
    "import mlflow.sklearn\n",
    "import numpy as np\n",
    "import sklearn\n",
    "from sklearn.ensemble import RandomForestClassifier\n",
    "from sklearn.metrics import roc_auc_score\n",
    "from mlflow.models.signature import infer_signature\n",
    "from mlflow.utils.environment import _mlflow_conda_env\n",
    "import cloudpickle\n",
    "import time"
   ]
  },
  {
   "cell_type": "code",
   "execution_count": 0,
   "metadata": {
    "application/vnd.databricks.v1+cell": {
     "cellMetadata": {},
     "inputWidgets": {},
     "nuid": "b0186e05-abf2-4f08-bbc7-2d6bdf3df0b6",
     "showTitle": false,
     "title": ""
    }
   },
   "outputs": [],
   "source": [
    "# (train_spdf, test_spdf) = spotify_spdf.randomSplit([0.7, 0.3])\n",
    "# print(train_spdf.count()) \n",
    "# print(test_spdf.count())"
   ]
  },
  {
   "cell_type": "code",
   "execution_count": 0,
   "metadata": {
    "application/vnd.databricks.v1+cell": {
     "cellMetadata": {},
     "inputWidgets": {},
     "nuid": "85933d79-5f52-4992-8dd5-617cd1922a1e",
     "showTitle": false,
     "title": ""
    }
   },
   "outputs": [],
   "source": [
    "predictions = Model.transform(test_spdf)"
   ]
  },
  {
   "cell_type": "code",
   "execution_count": 0,
   "metadata": {
    "application/vnd.databricks.v1+cell": {
     "cellMetadata": {},
     "inputWidgets": {},
     "nuid": "41d57b69-0d30-496d-96ed-de64a9a50821",
     "showTitle": false,
     "title": ""
    }
   },
   "outputs": [],
   "source": [
    "bcevaluator = BinaryClassificationEvaluator(metricName=\"areaUnderROC\", rawPredictionCol=\"rawPrediction\", labelCol='skipped')\n",
    "mcEvaluator = MulticlassClassificationEvaluator(metricName=\"accuracy\", labelCol='skipped')"
   ]
  },
  {
   "cell_type": "code",
   "execution_count": 0,
   "metadata": {
    "application/vnd.databricks.v1+cell": {
     "cellMetadata": {},
     "inputWidgets": {},
     "nuid": "586a4bce-9714-4f5f-a3bf-453f8a7318af",
     "showTitle": false,
     "title": ""
    }
   },
   "outputs": [
    {
     "output_type": "stream",
     "name": "stdout",
     "output_type": "stream",
     "text": [
      "Area under ROC curve: 0.7077347436056092\nAccuracy: 0.6830918643528101\n"
     ]
    }
   ],
   "source": [
    "print(f\"Area under ROC curve: {bcevaluator.evaluate(predictions)}\")\n",
    "print(f\"Accuracy: {mcEvaluator.evaluate(predictions)}\")"
   ]
  },
  {
   "cell_type": "code",
   "execution_count": 0,
   "metadata": {
    "application/vnd.databricks.v1+cell": {
     "cellMetadata": {},
     "inputWidgets": {},
     "nuid": "10ef4942-f923-41cd-bfc4-8cd7481401d9",
     "showTitle": false,
     "title": ""
    }
   },
   "outputs": [
    {
     "output_type": "stream",
     "name": "stdout",
     "output_type": "stream",
     "text": [
      "0.2685858510461744 day_of_week\n0.07058476154784828 session_position\n0.03528702509414463 hour_of_day\n0.0335957122271504 no_pause_before_play\n0.029776618664975094 previous_acoustic_vector_7\n0.023195339565538924 context_type\n0.021692686118554405 session_length\n0.0198781888336639 release_year\n0.01477804060110932 us_popularity_estimate\n0.014118061697707041 acousticness\n0.013410636587156927 organism\n0.01338346448776706 energy\n0.013144055062954867 previous_hist_user_behavior_reason_start\n0.013085014272006803 key\n0.012752154408984378 flatness\n0.012655262120761462 speechiness\n0.012581034234488026 previous_skipped\n0.012360706582434 liveness\n0.012108304113841497 previous_duration\n0.011536339484909801 time_signature\n0.011041906746508456 loudness\n0.011028647292020225 previous_flatness\n0.010930947853979953 previous_mode\n0.010594679575890654 previous_dyn_range_mean\n0.01053509815701486 bounciness\n0.009926136444839414 duration\n0.00970752695525296 previous_speechiness\n0.0093530471273426 previous_instrumentalness\n0.009297615199701677 previous_hist_user_behavior_is_shuffle\n0.009182899368018648 previous_danceability\n0.008816799300242144 previous_bounciness\n0.00859552079628973 acoustic_vector_0\n0.008568367191784792 hist_user_behavior_n_seekback\n0.008131932719054654 previous_key\n0.007985553105328275 previous_mechanism\n0.0078556745296261 acoustic_vector_3\n0.007824180321112689 acoustic_vector_1\n0.007704146297007883 acoustic_vector_5\n0.007615196814436389 previous_acousticness\n0.007472008089242382 acoustic_vector_6\n0.007278018135660311 previous_time_signature\n0.00719750248602622 previous_acoustic_vector_6\n0.007181669138841429 valence\n0.007130587213105819 instrumentalness\n0.00706855113201529 previous_valence\n0.0070487877813710615 acoustic_vector_4\n0.0070450474764846074 previous_release_year\n0.0069791442142526595 previous_energy\n0.006921820352694987 previous_acoustic_vector_1\n0.0069004564565476895 mode\n0.006854037257737849 previous_acoustic_vector_3\n0.006754285994403041 previous_acoustic_vector_4\n0.006446347272113355 previous_acoustic_vector_2\n0.006238290756928617 acoustic_vector_2\n0.005994513218363042 previous_acoustic_vector_0\n0.005963350474896925 previous_loudness\n0.0058374552060607154 previous_tempo\n0.005354482551540737 previous_beat_strength\n0.005071552715447177 previous_hist_user_behavior_reason_end\n0.004480806359197584 hist_user_behavior_is_shuffle\n0.0038932494541910746 previous_us_popularity_estimate\n0.003859105651627684 premium\n0.003345787302609901 hist_user_behavior_n_seekfwd\n0.002919280187732548 context_switch\n0.0024685611712882043 acoustic_vector_7\n0.0023101084005289077 previous_hist_user_behavior_n_seekfwd\n0.0016343482877659843 previous_long_pause_before_play\n0.001615070315410882 tempo\n0.0013498225957951982 previous_no_pause_before_play\n0.001327318273186239 mechanism\n0.0011533166548016005 previous_organism\n0.001018849333267003 previous_acoustic_vector_5\n0.0009653629956200178 previous_liveness\n0.0008827792755343144 previous_short_pause_before_play\n0.0008331932700860348 previous_hist_user_behavior_n_seekback\n"
     ]
    }
   ],
   "source": [
    "DTmodel = Model.stages[-1].bestModel\n",
    "importances = DTmodel.featureImportances\n",
    "feature_names = [col for col in test_spdf.columns if col != 'skipped']\n",
    "sorted_importances = sorted(zip(importances, feature_names), key=lambda x: x[0], reverse=True)\n",
    "for feature, importance in sorted_importances:\n",
    "    print(feature, importance)"
   ]
  },
  {
   "cell_type": "code",
   "execution_count": 0,
   "metadata": {
    "application/vnd.databricks.v1+cell": {
     "cellMetadata": {},
     "inputWidgets": {},
     "nuid": "623ae910-c489-4b48-8a11-64cd0d685982",
     "showTitle": false,
     "title": ""
    }
   },
   "outputs": [
    {
     "output_type": "display_data",
     "data": {
      "image/png": "[encoded data removed]"
     },
     "metadata": {
      "application/vnd.databricks.v1+output": {
       "addedWidgets": {},
       "arguments": {},
       "data": "data:image/png;base64,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\n",
       "datasetInfos": [],
       "metadata": {},
       "removedWidgets": [],
       "type": "image"
      }
     },
     "output_type": "display_data"
    }
   ],
   "source": [
    "import matplotlib.pyplot as plt\n",
    "\n",
    "top_n = 10\n",
    "importances = DTmodel.featureImportances\n",
    "feature_names = [col for col in test_spdf.columns if col != 'skipped']\n",
    "sorted_importances = sorted(zip(importances, feature_names), key=lambda x: x[0], reverse=True)\n",
    "top_n_importances = sorted_importances[:top_n]\n",
    "\n",
    "x = [feature_name for _, feature_name in top_n_importances]\n",
    "y = [importance for importance, _ in top_n_importances]\n",
    "\n",
    "plt.barh(x, y)\n",
    "plt.xscale('log')\n",
    "plt.xlabel('Feature Importance')\n",
    "plt.title('Top {} Features'.format(top_n))\n",
    "plt.show()\n"
   ]
  },
  {
   "cell_type": "code",
   "execution_count": 0,
   "metadata": {
    "application/vnd.databricks.v1+cell": {
     "cellMetadata": {},
     "inputWidgets": {},
     "nuid": "7491c98e-d329-4b44-808f-96312867b646",
     "showTitle": false,
     "title": ""
    }
   },
   "outputs": [
    {
     "output_type": "display_data",
     "data": {
      "text/plain": [
       ""
      ]
     },
     "metadata": {
      "application/vnd.databricks.v1+output": {
       "arguments": {},
       "data": "",
       "errorSummary": "Command skipped",
       "errorTraceType": "ansi",
       "metadata": {},
       "type": "ipynbError"
      }
     },
     "output_type": "display_data"
    }
   ],
   "source": [
    "print(DTmodel.toDebugString)"
   ]
  },
  {
   "cell_type": "code",
   "execution_count": 0,
   "metadata": {
    "application/vnd.databricks.v1+cell": {
     "cellMetadata": {},
     "inputWidgets": {},
     "nuid": "49695a6f-c2c9-4b35-ac0a-298371753131",
     "showTitle": false,
     "title": ""
    }
   },
   "outputs": [
    {
     "output_type": "display_data",
     "data": {
      "text/plain": [
       ""
      ]
     },
     "metadata": {
      "application/vnd.databricks.v1+output": {
       "arguments": {},
       "data": "",
       "errorSummary": "Command skipped",
       "errorTraceType": "ansi",
       "metadata": {},
       "type": "ipynbError"
      }
     },
     "output_type": "display_data"
    }
   ],
   "source": [
    "!pip install pydotplus"
   ]
  },
  {
   "cell_type": "code",
   "execution_count": 0,
   "metadata": {
    "application/vnd.databricks.v1+cell": {
     "cellMetadata": {},
     "inputWidgets": {},
     "nuid": "05a77d72-496f-45b4-93f1-d74bb743c849",
     "showTitle": false,
     "title": ""
    }
   },
   "outputs": [
    {
     "output_type": "display_data",
     "data": {
      "text/plain": [
       ""
      ]
     },
     "metadata": {
      "application/vnd.databricks.v1+output": {
       "arguments": {},
       "data": "",
       "errorSummary": "Command skipped",
       "errorTraceType": "ansi",
       "metadata": {},
       "type": "ipynbError"
      }
     },
     "output_type": "display_data"
    }
   ],
   "source": [
    "import pydotplus\n",
    "from sklearn import tree\n",
    "from IPython.display import Image\n",
    "\n",
    "dot_data = tree.export_graphviz(DTmodel, out_file=None) \n",
    "graph = pydotplus.graph_from_dot_data(dot_data) \n",
    "\n",
    "Image(graph.create_png())\n"
   ]
  },
  {
   "cell_type": "code",
   "execution_count": 0,
   "metadata": {
    "application/vnd.databricks.v1+cell": {
     "cellMetadata": {},
     "inputWidgets": {},
     "nuid": "00f2cf32-1388-4da7-8a69-bee471245e59",
     "showTitle": false,
     "title": ""
    }
   },
   "outputs": [],
   "source": []
  }
 ],
 "metadata": {
  "application/vnd.databricks.v1+notebook": {
   "dashboards": [],
   "language": "python",
   "notebookMetadata": {
    "pythonIndentUnit": 4
   },
   "notebookName": "3.final_model_spotify",
   "widgets": {}
  }
 },
 "nbformat": 4,
 "nbformat_minor": 0
}
