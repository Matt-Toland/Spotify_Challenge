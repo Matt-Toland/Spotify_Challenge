{
 "cells": [
  {
   "cell_type": "code",
   "execution_count": 0,
   "metadata": {
    "application/vnd.databricks.v1+cell": {
     "cellMetadata": {},
     "inputWidgets": {},
     "nuid": "bc3de68d-f924-47fa-a56d-1f094d5adc97",
     "showTitle": false,
     "title": ""
    }
   },
   "outputs": [],
   "source": [
    "## Convert into Spark DataFrame\n",
    "spotify_spdf = spark.read.table('spotify')\n"
   ]
  },
  {
   "cell_type": "markdown",
   "metadata": {
    "application/vnd.databricks.v1+cell": {
     "cellMetadata": {},
     "inputWidgets": {},
     "nuid": "3f869aef-25c2-49e9-bae0-62ef3c8a939a",
     "showTitle": false,
     "title": ""
    }
   },
   "source": [
    "### SelectKBest Feature Selection\n",
    "Uncomment the following code to make use of selectkbest feature selection. This will reuduce the number of variables in our dataset and make fitting models quicker (depending on the value of k chosen)"
   ]
  },
  {
   "cell_type": "code",
   "execution_count": 0,
   "metadata": {
    "application/vnd.databricks.v1+cell": {
     "cellMetadata": {},
     "inputWidgets": {},
     "nuid": "d476b85b-0fd2-4485-bdbb-d7841609c067",
     "showTitle": false,
     "title": ""
    }
   },
   "outputs": [],
   "source": [
    "import pandas as pd\n",
    "\n",
    "spotify_df = spotify_spdf.toPandas()"
   ]
  },
  {
   "cell_type": "code",
   "execution_count": 0,
   "metadata": {
    "application/vnd.databricks.v1+cell": {
     "cellMetadata": {},
     "inputWidgets": {},
     "nuid": "11cdd8d5-566f-46b5-ae19-49654d73dd3f",
     "showTitle": false,
     "title": ""
    }
   },
   "outputs": [],
   "source": [
    "from sklearn.preprocessing import LabelEncoder\n",
    "categorical_cols = ['session_id','track_id','context_type', 'hist_user_behavior_reason_start', 'hist_user_behavior_reason_end',\n",
    "'previous_track_id', 'previous_hist_user_behavior_reason_start', 'previous_hist_user_behavior_reason_end']\n",
    "# instantiate labelencoder object\n",
    "le = LabelEncoder()\n",
    "\n",
    "# apply le on categorical feature columns\n",
    "spotify_df[categorical_cols] = spotify_df[categorical_cols].apply(lambda col: le.fit_transform(col))"
   ]
  },
  {
   "cell_type": "code",
   "execution_count": 0,
   "metadata": {
    "application/vnd.databricks.v1+cell": {
     "cellMetadata": {},
     "inputWidgets": {},
     "nuid": "597d93b9-4ff0-4759-8c11-52be3d9ac7de",
     "showTitle": false,
     "title": ""
    }
   },
   "outputs": [],
   "source": [
    "import numpy as np\n",
    "from sklearn.feature_selection import SelectKBest\n",
    "from sklearn.feature_selection import f_classif\n",
    "from sklearn.preprocessing import LabelEncoder\n",
    "\n",
    "\n",
    "\n",
    "# Assign the features and target variable\n",
    "X = spotify_df.drop('skipped', axis=1)\n",
    "y = spotify_df['skipped']\n",
    "\n",
    "# remove rows with NaN or infinity values\n",
    "# drop rows that contain NaN or infinity values from both X and y\n",
    "X = X.replace([np.inf, -np.inf], np.nan)\n",
    "Xy = X.join(y)\n",
    "Xy = Xy.dropna()\n",
    "\n",
    "X = Xy.drop('skipped', axis=1)\n",
    "y = Xy['skipped']\n",
    "\n",
    "\n",
    "# Create a label encoder\n",
    "le = LabelEncoder()\n",
    "\n",
    "# fit and transform the label encoder on the categorical columns\n",
    "# fit and transform the label encoder on the categorical columns\n",
    "# fit and transform the label encoder on the categorical columns\n",
    "for col in X.columns:\n",
    "    if X[col].dtype == 'object':\n",
    "        try:\n",
    "            float(X[col][0])\n",
    "            X[col] = le.fit_transform(X[col])\n",
    "        except ValueError:\n",
    "            X = X.drop(col, axis=1)\n",
    "\n",
    "\n",
    "\n",
    "# Select the top k features using the f_classif score function\n",
    "selector = SelectKBest(f_classif, k=20)\n",
    "X_new = selector.fit_transform(X, y)\n",
    "\n",
    "# Get the column names of the selected features\n",
    "selected_features = X.columns[selector.get_support()]\n",
    "\n",
    "# Create a new dataframe with only the selected features\n",
    "spotify_df_reduced = spotify_df.loc[:, selected_features]\n",
    "spotify_df_reduced = spotify_df_reduced.assign(skipped=spotify_df['skipped'])"
   ]
  },
  {
   "cell_type": "code",
   "execution_count": 0,
   "metadata": {
    "application/vnd.databricks.v1+cell": {
     "cellMetadata": {},
     "inputWidgets": {},
     "nuid": "bb84ee45-3602-429b-adf4-0393cef36ce6",
     "showTitle": false,
     "title": ""
    }
   },
   "outputs": [
    {
     "output_type": "stream",
     "name": "stdout",
     "output_type": "stream",
     "text": [
      "{'organism', 'previous_speechiness', 'previous_acoustic_vector_5', 'previous_release_year', 'previous_mechanism', 'previous_hist_user_behavior_n_seekback', 'previous_short_pause_before_play', 'previous_tempo', 'previous_mode', 'previous_loudness', 'release_year', 'acoustic_vector_4', 'loudness', 'previous_long_pause_before_play', 'acoustic_vector_1', 'acoustic_vector_7', 'previous_valence', 'energy', 'duration', 'hist_user_behavior_n_seekfwd', 'previous_energy', 'valence', 'us_popularity_estimate', 'premium', 'track_id', 'previous_us_popularity_estimate', 'previous_acoustic_vector_2', 'acoustic_vector_2', 'key', 'previous_acoustic_vector_7', 'previous_hist_user_behavior_n_seekfwd', 'hour_of_day', 'previous_flatness', 'previous_key', 'previous_time_signature', 'time_signature', 'previous_instrumentalness', 'previous_organism', 'previous_acoustic_vector_1', 'acoustic_vector_5', 'previous_beat_strength', 'tempo', 'acousticness', 'liveness', 'previous_liveness', 'flatness', 'bounciness', 'mechanism', 'day_of_week', 'mode', 'session_id', 'previous_bounciness', 'previous_acoustic_vector_3', 'acoustic_vector_3', 'skipped', 'previous_track_id', 'previous_dyn_range_mean', 'instrumentalness', 'previous_danceability', 'acoustic_vector_6', 'previous_acoustic_vector_4'}\n"
     ]
    }
   ],
   "source": [
    "original_columns = set(spotify_spdf.columns)\n",
    "selected_columns = set(selected_features)\n",
    "removed_columns = original_columns.difference(selected_columns)\n",
    "print(removed_columns)"
   ]
  },
  {
   "cell_type": "code",
   "execution_count": 0,
   "metadata": {
    "application/vnd.databricks.v1+cell": {
     "cellMetadata": {},
     "inputWidgets": {},
     "nuid": "51189339-3b9e-4f34-8be5-d3d0714a1b4f",
     "showTitle": false,
     "title": ""
    }
   },
   "outputs": [
    {
     "output_type": "display_data",
     "data": {
      "text/html": [
       "<style scoped>\n",
       "  .table-result-container {\n",
       "    max-height: 300px;\n",
       "    overflow: auto;\n",
       "  }\n",
       "  table, th, td {\n",
       "    border: 1px solid black;\n",
       "    border-collapse: collapse;\n",
       "  }\n",
       "  th, td {\n",
       "    padding: 5px;\n",
       "  }\n",
       "  th {\n",
       "    text-align: left;\n",
       "  }\n",
       "</style><div class='table-result-container'><table class='table-result'><thead style='background-color: white'><tr><th>_1</th><th>_2</th></tr></thead><tbody><tr><td>session_position</td><td>int</td></tr><tr><td>session_length</td><td>int</td></tr><tr><td>context_switch</td><td>int</td></tr><tr><td>no_pause_before_play</td><td>int</td></tr><tr><td>hist_user_behavior_n_seekback</td><td>int</td></tr><tr><td>hist_user_behavior_is_shuffle</td><td>boolean</td></tr><tr><td>context_type</td><td>bigint</td></tr><tr><td>hist_user_behavior_reason_start</td><td>bigint</td></tr><tr><td>hist_user_behavior_reason_end</td><td>bigint</td></tr><tr><td>speechiness</td><td>float</td></tr><tr><td>acoustic_vector_0</td><td>float</td></tr><tr><td>previous_no_pause_before_play</td><td>double</td></tr><tr><td>previous_hist_user_behavior_is_shuffle</td><td>boolean</td></tr><tr><td>previous_hist_user_behavior_reason_start</td><td>bigint</td></tr><tr><td>previous_hist_user_behavior_reason_end</td><td>bigint</td></tr><tr><td>previous_skipped</td><td>double</td></tr><tr><td>previous_duration</td><td>float</td></tr><tr><td>previous_acousticness</td><td>float</td></tr><tr><td>previous_acoustic_vector_0</td><td>float</td></tr><tr><td>previous_acoustic_vector_6</td><td>float</td></tr><tr><td>skipped</td><td>int</td></tr></tbody></table></div>"
      ]
     },
     "metadata": {
      "application/vnd.databricks.v1+output": {
       "addedWidgets": {},
       "aggData": [],
       "aggError": "",
       "aggOverflow": false,
       "aggSchema": [],
       "aggSeriesLimitReached": false,
       "aggType": "",
       "arguments": {},
       "columnCustomDisplayInfos": {},
       "data": [
        [
         "session_position",
         "int"
        ],
        [
         "session_length",
         "int"
        ],
        [
         "context_switch",
         "int"
        ],
        [
         "no_pause_before_play",
         "int"
        ],
        [
         "hist_user_behavior_n_seekback",
         "int"
        ],
        [
         "hist_user_behavior_is_shuffle",
         "boolean"
        ],
        [
         "context_type",
         "bigint"
        ],
        [
         "hist_user_behavior_reason_start",
         "bigint"
        ],
        [
         "hist_user_behavior_reason_end",
         "bigint"
        ],
        [
         "speechiness",
         "float"
        ],
        [
         "acoustic_vector_0",
         "float"
        ],
        [
         "previous_no_pause_before_play",
         "double"
        ],
        [
         "previous_hist_user_behavior_is_shuffle",
         "boolean"
        ],
        [
         "previous_hist_user_behavior_reason_start",
         "bigint"
        ],
        [
         "previous_hist_user_behavior_reason_end",
         "bigint"
        ],
        [
         "previous_skipped",
         "double"
        ],
        [
         "previous_duration",
         "float"
        ],
        [
         "previous_acousticness",
         "float"
        ],
        [
         "previous_acoustic_vector_0",
         "float"
        ],
        [
         "previous_acoustic_vector_6",
         "float"
        ],
        [
         "skipped",
         "int"
        ]
       ],
       "datasetInfos": [],
       "dbfsResultPath": null,
       "isJsonSchema": true,
       "metadata": {},
       "overflow": false,
       "plotOptions": {
        "customPlotOptions": {},
        "displayType": "table",
        "pivotAggregation": null,
        "pivotColumns": null,
        "xColumns": null,
        "yColumns": null
       },
       "removedWidgets": [],
       "schema": [
        {
         "metadata": "{}",
         "name": "_1",
         "type": "\"string\""
        },
        {
         "metadata": "{}",
         "name": "_2",
         "type": "\"string\""
        }
       ],
       "type": "table"
      }
     },
     "output_type": "display_data"
    }
   ],
   "source": [
    "spotify_spdf_reduced = spark.createDataFrame(spotify_df_reduced)\n",
    "display(spotify_spdf_reduced.dtypes)"
   ]
  },
  {
   "cell_type": "code",
   "execution_count": 0,
   "metadata": {
    "application/vnd.databricks.v1+cell": {
     "cellMetadata": {},
     "inputWidgets": {},
     "nuid": "0f4ebb0d-1272-4f0b-8b06-136fb20e6da0",
     "showTitle": false,
     "title": ""
    }
   },
   "outputs": [],
   "source": [
    "from __future__ import division\n",
    "\n",
    "# import necessary libs\n",
    "import numpy  as np\n",
    "import pandas as pd\n",
    "\n",
    "# general spark modules\n",
    "from pyspark.sql import Row\n",
    "from pyspark.sql.types import *\n",
    "from pyspark.sql.functions import *\n",
    "from pyspark.sql.functions import lit\n",
    "\n",
    "# spark ml modules \n",
    "from pyspark.ml.linalg import DenseVector\n",
    "from pyspark.ml.feature import StandardScaler\n",
    "\n",
    "from pyspark.ml.tuning import CrossValidator, ParamGridBuilder\n",
    "from pyspark.ml.evaluation import RegressionEvaluator\n",
    "from pyspark.ml import Pipeline\n",
    "from pyspark.ml.feature import VectorIndexer\n",
    "from pyspark.ml.feature import ChiSqSelector\n",
    "from pyspark.ml.feature import OneHotEncoder, StringIndexer, VectorAssembler\n",
    "from pyspark.ml import Pipeline\n",
    "\n",
    "\n",
    "# classification \n",
    "from pyspark.ml.classification import LogisticRegression\n",
    "from pyspark.ml.classification import DecisionTreeClassifier\n",
    "from pyspark.ml.classification import RandomForestClassifier\n",
    "from pyspark.ml.classification import GBTClassifier\n",
    "from pyspark.ml.classification import LinearSVC\n",
    "from pyspark.ml.classification import NaiveBayes\n",
    "from pyspark.ml.feature import VectorAssembler, StandardScaler, PCA\n",
    "\n",
    "\n",
    "from pyspark.ml.evaluation import BinaryClassificationEvaluator\n",
    "from pyspark.ml.evaluation import MulticlassClassificationEvaluator\n",
    "import time\n",
    "import itertools\n",
    "import mlflow\n",
    "import mlflow.pyfunc\n",
    "import mlflow.sklearn\n",
    "import numpy as np\n",
    "import sklearn\n",
    "from sklearn.ensemble import RandomForestClassifier\n",
    "from sklearn.metrics import roc_auc_score\n",
    "from mlflow.models.signature import infer_signature\n",
    "from mlflow.utils.environment import _mlflow_conda_env\n",
    "import cloudpickle\n",
    "import time"
   ]
  },
  {
   "cell_type": "markdown",
   "metadata": {
    "application/vnd.databricks.v1+cell": {
     "cellMetadata": {},
     "inputWidgets": {},
     "nuid": "ce0078ac-c86e-434e-bef8-7cf0826dbc59",
     "showTitle": false,
     "title": ""
    }
   },
   "source": [
    "we can split our dataset into train and test data. Uncomment the second line if using selectkbest"
   ]
  },
  {
   "cell_type": "code",
   "execution_count": 0,
   "metadata": {
    "application/vnd.databricks.v1+cell": {
     "cellMetadata": {},
     "inputWidgets": {},
     "nuid": "10a73ccb-a4be-426f-802a-624a06b7cdec",
     "showTitle": false,
     "title": ""
    }
   },
   "outputs": [
    {
     "output_type": "stream",
     "name": "stdout",
     "output_type": "stream",
     "text": [
      "117413\n50467\n"
     ]
    }
   ],
   "source": [
    "#(train_spdf, test_spdf) = spotify_spdf.randomSplit([0.7, 0.3])\n",
    "(train_spdf, test_spdf) = spotify_spdf_reduced.randomSplit([0.7, 0.3])\n",
    "print(train_spdf.count()) \n",
    "print(test_spdf.count())"
   ]
  },
  {
   "cell_type": "markdown",
   "metadata": {
    "application/vnd.databricks.v1+cell": {
     "cellMetadata": {},
     "inputWidgets": {},
     "nuid": "f57b3096-f7ae-422d-b655-8aab414d3726",
     "showTitle": false,
     "title": ""
    }
   },
   "source": [
    "saving the test data to a parquet file so we can utilise it later in our final model notebook"
   ]
  },
  {
   "cell_type": "code",
   "execution_count": 0,
   "metadata": {
    "application/vnd.databricks.v1+cell": {
     "cellMetadata": {},
     "inputWidgets": {},
     "nuid": "ba034d60-f881-482e-9831-ed0fd4015526",
     "showTitle": false,
     "title": ""
    }
   },
   "outputs": [],
   "source": [
    "test_spdf.write.format(\"parquet\").mode(\"overwrite\").save(\"dbfs:/dbfs/test_spdf\")\n"
   ]
  },
  {
   "cell_type": "code",
   "execution_count": 0,
   "metadata": {
    "application/vnd.databricks.v1+cell": {
     "cellMetadata": {},
     "inputWidgets": {},
     "nuid": "cbe868c9-24ae-477b-987d-66f2d2579e98",
     "showTitle": false,
     "title": ""
    }
   },
   "outputs": [],
   "source": [
    "# prepare data for models\n",
    "\n",
    "# Write a custom function to convert the data type of DataFrame columns# Write \n",
    "def convertColumn(df, names, newType):\n",
    "    for name in names: \n",
    "        df = df.withColumn(name, df[name].cast(newType))\n",
    "    return df "
   ]
  },
  {
   "cell_type": "markdown",
   "metadata": {
    "application/vnd.databricks.v1+cell": {
     "cellMetadata": {},
     "inputWidgets": {},
     "nuid": "96cec2bf-a577-49ef-8888-3768f1007401",
     "showTitle": false,
     "title": ""
    }
   },
   "source": [
    "we store the categorical columns in a list so we can seperate them from the numeric then convert the numeric to all have datatype float~"
   ]
  },
  {
   "cell_type": "code",
   "execution_count": 0,
   "metadata": {
    "application/vnd.databricks.v1+cell": {
     "cellMetadata": {},
     "inputWidgets": {},
     "nuid": "a7e0f8b9-797d-49b2-b882-9dd347b19023",
     "showTitle": false,
     "title": ""
    }
   },
   "outputs": [
    {
     "output_type": "stream",
     "name": "stdout",
     "output_type": "stream",
     "text": [
      "117695\n50184\n"
     ]
    }
   ],
   "source": [
    "# cast numerical columns to float\n",
    "\n",
    "categorical_cols = ['session_id','track_id','context_type', 'hist_user_behavior_reason_start', 'hist_user_behavior_reason_end',\n",
    "'previous_track_id', 'previous_hist_user_behavior_reason_start', 'previous_hist_user_behavior_reason_end']\n",
    "#numerical_cols = (spotify_spdf.select([c for c in spotify_spdf.columns if c not in categorical_cols])).columns\n",
    "numerical_cols = (spotify_spdf.select([c for c in spotify_spdf.columns if c not in categorical_cols and c != 'skipped'])).columns\n",
    "label_col = ['skipped']\n",
    "train_spdf  = convertColumn(train_spdf,  numerical_cols + label_col, FloatType())\n",
    "test_spdf   = convertColumn(test_spdf,   numerical_cols , FloatType())\n",
    "\n",
    "# drop missing values if any\n",
    "train_spdf  = train_spdf.dropna()\n",
    "test_spdf   = test_spdf.dropna()\n",
    "print(train_spdf.count()) \n",
    "print(test_spdf.count())"
   ]
  },
  {
   "cell_type": "code",
   "execution_count": 0,
   "metadata": {
    "application/vnd.databricks.v1+cell": {
     "cellMetadata": {},
     "inputWidgets": {},
     "nuid": "d4a74388-f694-43d1-84ab-c18350ffea60",
     "showTitle": false,
     "title": ""
    }
   },
   "outputs": [
    {
     "output_type": "stream",
     "name": "stdout",
     "output_type": "stream",
     "text": [
      "117479\n50401\n"
     ]
    }
   ],
   "source": [
    "# # cast numerical columns to float\n",
    "\n",
    "# categorical_cols = []\n",
    "# #numerical_cols = (spotify_spdf.select([c for c in spotify_spdf.columns if c not in categorical_cols])).columns\n",
    "# numerical_cols = (spotify_spdf_reduced.select([c for c in spotify_spdf_reduced.columns if c not in categorical_cols and c != 'skipped'])).columns\n",
    "# label_col = ['skipped']\n",
    "# train_spdf  = convertColumn(train_spdf,  numerical_cols + label_col, FloatType())\n",
    "# test_spdf   = convertColumn(test_spdf,   numerical_cols , FloatType())\n",
    "\n",
    "# # drop missing values if any\n",
    "# train_spdf  = train_spdf.dropna()\n",
    "# test_spdf   = test_spdf.dropna()\n",
    "# print(train_spdf.count()) \n",
    "# print(test_spdf.count())"
   ]
  },
  {
   "cell_type": "markdown",
   "metadata": {
    "application/vnd.databricks.v1+cell": {
     "cellMetadata": {},
     "inputWidgets": {},
     "nuid": "d0805ddf-cb45-4393-bbd9-a0c350ca6036",
     "showTitle": false,
     "title": ""
    }
   },
   "source": [
    "Here we are creating the string indexers for our categorical data types and adding them to the stages for our pipeline. We also create a new features column using the vector assembler"
   ]
  },
  {
   "cell_type": "code",
   "execution_count": 0,
   "metadata": {
    "application/vnd.databricks.v1+cell": {
     "cellMetadata": {},
     "inputWidgets": {},
     "nuid": "8c4ee678-40c7-46dd-9944-11b5f7481692",
     "showTitle": false,
     "title": ""
    }
   },
   "outputs": [],
   "source": [
    "stages = []\n",
    "\n",
    "for categorical_col in categorical_cols:\n",
    "    string_indexer = StringIndexer(inputCol=categorical_col, outputCol=categorical_col + \"_index\", handleInvalid='keep')\n",
    "    stages += [string_indexer]\n",
    "\n",
    "assembler_inputs = numerical_cols + [c + \"_index\" for c in categorical_cols]\n",
    "assembler = VectorAssembler(inputCols=assembler_inputs, outputCol=\"features\")\n",
    "\n",
    "stages  += [assembler]"
   ]
  },
  {
   "cell_type": "code",
   "execution_count": 0,
   "metadata": {
    "application/vnd.databricks.v1+cell": {
     "cellMetadata": {},
     "inputWidgets": {},
     "nuid": "c572af3f-6d45-4176-a38b-73991b100f53",
     "showTitle": false,
     "title": ""
    }
   },
   "outputs": [
    {
     "output_type": "display_data",
     "data": {
      "text/html": [
       "<style scoped>\n",
       "  .table-result-container {\n",
       "    max-height: 300px;\n",
       "    overflow: auto;\n",
       "  }\n",
       "  table, th, td {\n",
       "    border: 1px solid black;\n",
       "    border-collapse: collapse;\n",
       "  }\n",
       "  th, td {\n",
       "    padding: 5px;\n",
       "  }\n",
       "  th {\n",
       "    text-align: left;\n",
       "  }\n",
       "</style><div class='table-result-container'><table class='table-result'><thead style='background-color: white'><tr><th>_1</th><th>_2</th></tr></thead><tbody><tr><td>session_position</td><td>float</td></tr><tr><td>session_length</td><td>float</td></tr><tr><td>context_switch</td><td>float</td></tr><tr><td>no_pause_before_play</td><td>float</td></tr><tr><td>hist_user_behavior_n_seekback</td><td>float</td></tr><tr><td>hist_user_behavior_is_shuffle</td><td>float</td></tr><tr><td>context_type</td><td>float</td></tr><tr><td>hist_user_behavior_reason_start</td><td>float</td></tr><tr><td>hist_user_behavior_reason_end</td><td>float</td></tr><tr><td>speechiness</td><td>float</td></tr><tr><td>acoustic_vector_0</td><td>float</td></tr><tr><td>previous_no_pause_before_play</td><td>float</td></tr><tr><td>previous_hist_user_behavior_is_shuffle</td><td>float</td></tr><tr><td>previous_hist_user_behavior_reason_start</td><td>float</td></tr><tr><td>previous_hist_user_behavior_reason_end</td><td>float</td></tr><tr><td>previous_skipped</td><td>float</td></tr><tr><td>previous_duration</td><td>float</td></tr><tr><td>previous_acousticness</td><td>float</td></tr><tr><td>previous_acoustic_vector_0</td><td>float</td></tr><tr><td>previous_acoustic_vector_6</td><td>float</td></tr><tr><td>skipped</td><td>float</td></tr></tbody></table></div>"
      ]
     },
     "metadata": {
      "application/vnd.databricks.v1+output": {
       "addedWidgets": {},
       "aggData": [],
       "aggError": "",
       "aggOverflow": false,
       "aggSchema": [],
       "aggSeriesLimitReached": false,
       "aggType": "",
       "arguments": {},
       "columnCustomDisplayInfos": {},
       "data": [
        [
         "session_position",
         "float"
        ],
        [
         "session_length",
         "float"
        ],
        [
         "context_switch",
         "float"
        ],
        [
         "no_pause_before_play",
         "float"
        ],
        [
         "hist_user_behavior_n_seekback",
         "float"
        ],
        [
         "hist_user_behavior_is_shuffle",
         "float"
        ],
        [
         "context_type",
         "float"
        ],
        [
         "hist_user_behavior_reason_start",
         "float"
        ],
        [
         "hist_user_behavior_reason_end",
         "float"
        ],
        [
         "speechiness",
         "float"
        ],
        [
         "acoustic_vector_0",
         "float"
        ],
        [
         "previous_no_pause_before_play",
         "float"
        ],
        [
         "previous_hist_user_behavior_is_shuffle",
         "float"
        ],
        [
         "previous_hist_user_behavior_reason_start",
         "float"
        ],
        [
         "previous_hist_user_behavior_reason_end",
         "float"
        ],
        [
         "previous_skipped",
         "float"
        ],
        [
         "previous_duration",
         "float"
        ],
        [
         "previous_acousticness",
         "float"
        ],
        [
         "previous_acoustic_vector_0",
         "float"
        ],
        [
         "previous_acoustic_vector_6",
         "float"
        ],
        [
         "skipped",
         "float"
        ]
       ],
       "datasetInfos": [],
       "dbfsResultPath": null,
       "isJsonSchema": true,
       "metadata": {},
       "overflow": false,
       "plotOptions": {
        "customPlotOptions": {},
        "displayType": "table",
        "pivotAggregation": null,
        "pivotColumns": null,
        "xColumns": null,
        "yColumns": null
       },
       "removedWidgets": [],
       "schema": [
        {
         "metadata": "{}",
         "name": "_1",
         "type": "\"string\""
        },
        {
         "metadata": "{}",
         "name": "_2",
         "type": "\"string\""
        }
       ],
       "type": "table"
      }
     },
     "output_type": "display_data"
    }
   ],
   "source": [
    "display(train_spdf.dtypes)"
   ]
  },
  {
   "cell_type": "markdown",
   "metadata": {
    "application/vnd.databricks.v1+cell": {
     "cellMetadata": {},
     "inputWidgets": {},
     "nuid": "5a43f6cf-d1e4-48bb-a4c9-a6d43fedafdd",
     "showTitle": false,
     "title": ""
    }
   },
   "source": [
    "# Model Selection"
   ]
  },
  {
   "cell_type": "markdown",
   "metadata": {
    "application/vnd.databricks.v1+cell": {
     "cellMetadata": {},
     "inputWidgets": {},
     "nuid": "ee96200b-bbd4-49b2-9867-fd30dbc4bed3",
     "showTitle": false,
     "title": ""
    }
   },
   "source": [
    "###Logistic Regression"
   ]
  },
  {
   "cell_type": "markdown",
   "metadata": {
    "application/vnd.databricks.v1+cell": {
     "cellMetadata": {},
     "inputWidgets": {},
     "nuid": "a6086895-9ee4-4dfd-abf9-9c11b80410cc",
     "showTitle": false,
     "title": ""
    }
   },
   "source": [
    "We will use a pipeline to create and fit our model, if we want we can add a PCA or Selector stage to the stages of our model as below"
   ]
  },
  {
   "cell_type": "code",
   "execution_count": 0,
   "metadata": {
    "application/vnd.databricks.v1+cell": {
     "cellMetadata": {},
     "inputWidgets": {},
     "nuid": "f14a60db-0178-4189-ad20-264d37212c20",
     "showTitle": false,
     "title": ""
    }
   },
   "outputs": [],
   "source": [
    "pca = PCA(k=30, inputCol=\"features\", outputCol=\"pcaFeatures\")\n",
    "selector = ChiSqSelector(numTopFeatures=50, featuresCol=\"features\",\n",
    "                         outputCol=\"selectedFeatures\", labelCol=\"skipped\")"
   ]
  },
  {
   "cell_type": "code",
   "execution_count": 0,
   "metadata": {
    "application/vnd.databricks.v1+cell": {
     "cellMetadata": {},
     "inputWidgets": {},
     "nuid": "b2e93e79-d99e-40a7-a77c-983fb13811b8",
     "showTitle": false,
     "title": ""
    }
   },
   "outputs": [],
   "source": [
    "lr = LogisticRegression(labelCol=\"skipped\", \n",
    "                        featuresCol=\"pcaFeatures\")"
   ]
  },
  {
   "cell_type": "markdown",
   "metadata": {
    "application/vnd.databricks.v1+cell": {
     "cellMetadata": {},
     "inputWidgets": {},
     "nuid": "34283045-4c65-4f39-a2be-417864d63a27",
     "showTitle": false,
     "title": ""
    }
   },
   "source": [
    "Using a parameter grid, we can use cross validation as the final step in our pipeline to test multiple different combinations of parameters for each model to chose the best possible version"
   ]
  },
  {
   "cell_type": "code",
   "execution_count": 0,
   "metadata": {
    "application/vnd.databricks.v1+cell": {
     "cellMetadata": {},
     "inputWidgets": {},
     "nuid": "7b1129a3-a592-4af9-936a-8a2fe031676d",
     "showTitle": false,
     "title": ""
    }
   },
   "outputs": [],
   "source": [
    "# Define a grid of hyperparameters to test:\n",
    "#  - maxDepth: maximum depth of each decision tree \n",
    "#  - maxIter: iterations, or the total number of trees \n",
    "paramGrid = ParamGridBuilder()\\\n",
    "  .addGrid(lr.regParam, [0.1, 0.5, 2.0])\\\n",
    "  .addGrid(lr.elasticNetParam, [0.0, 0.5, 1.0])\\\n",
    "  .addGrid(lr.maxIter, [10, 50, 100])\\\n",
    "  .build()\n",
    " \n",
    "# Define an evaluation metric.  The CrossValidator compares the true labels with predicted values for each combination of parameters, and calculates this value to determine the best model.\n",
    "bcevaluator = BinaryClassificationEvaluator(metricName=\"areaUnderROC\", rawPredictionCol=\"rawPrediction\", labelCol='skipped')\n",
    "mcEvaluator = MulticlassClassificationEvaluator(metricName=\"accuracy\", labelCol='skipped')\n",
    " \n",
    "# Declare the CrossValidator, which performs the model tuning.\n",
    "cv = CrossValidator(estimator=lr, evaluator=bcevaluator, estimatorParamMaps=paramGrid)"
   ]
  },
  {
   "cell_type": "code",
   "execution_count": 0,
   "metadata": {
    "application/vnd.databricks.v1+cell": {
     "cellMetadata": {},
     "inputWidgets": {},
     "nuid": "6706c1b3-8781-4c02-aea1-2d4a76c1237c",
     "showTitle": false,
     "title": ""
    }
   },
   "outputs": [],
   "source": [
    "%%time\n",
    "# stagesLR = stages  + [pca] + [cv]\n",
    "# stagesLR = stages  + [selector] + [cv]\n",
    "stagesLR = stages  + [cv]\n",
    "full_pipeline = Pipeline(stages=stagesLR)\n",
    "pipelineModel = full_pipeline.fit(train_spdf)"
   ]
  },
  {
   "cell_type": "markdown",
   "metadata": {
    "application/vnd.databricks.v1+cell": {
     "cellMetadata": {},
     "inputWidgets": {},
     "nuid": "a47d1404-8664-44a4-8878-eb9bd238f907",
     "showTitle": false,
     "title": ""
    }
   },
   "source": [
    "We then use our best model from the CV stage to transform our hold out test set and assess its performance using our evaluator"
   ]
  },
  {
   "cell_type": "code",
   "execution_count": 0,
   "metadata": {
    "application/vnd.databricks.v1+cell": {
     "cellMetadata": {},
     "inputWidgets": {},
     "nuid": "004a3d98-ab4f-40e8-be2b-2a06deb4349e",
     "showTitle": false,
     "title": ""
    }
   },
   "outputs": [],
   "source": [
    "cvPredLR = pipelineModel.transform(test_spdf)"
   ]
  },
  {
   "cell_type": "code",
   "execution_count": 0,
   "metadata": {
    "application/vnd.databricks.v1+cell": {
     "cellMetadata": {},
     "inputWidgets": {},
     "nuid": "b573e539-b700-4a6b-a70e-543f5ed36d06",
     "showTitle": false,
     "title": ""
    }
   },
   "outputs": [],
   "source": [
    "print(f\"Area under ROC curve: {bcevaluator.evaluate(cvPredLR)}\")\n",
    "print(f\"Accuracy: {mcEvaluator.evaluate(cvPredLR)}\")"
   ]
  },
  {
   "cell_type": "code",
   "execution_count": 0,
   "metadata": {
    "application/vnd.databricks.v1+cell": {
     "cellMetadata": {},
     "inputWidgets": {},
     "nuid": "8b896e63-b28d-4032-9955-992871a1ad0d",
     "showTitle": false,
     "title": ""
    }
   },
   "outputs": [],
   "source": [
    "evaluator = BinaryClassificationEvaluator(rawPredictionCol=\"rawPrediction\", labelCol='skipped')\n",
    "auc       = evaluator.evaluate(cvPredLR)\n",
    "print('AUC: ', auc)"
   ]
  },
  {
   "cell_type": "code",
   "execution_count": 0,
   "metadata": {
    "application/vnd.databricks.v1+cell": {
     "cellMetadata": {},
     "inputWidgets": {},
     "nuid": "26c6064b-9af6-48d0-a283-70472ee8171e",
     "showTitle": false,
     "title": ""
    }
   },
   "outputs": [],
   "source": [
    "print(\"Explained variance by principal components:\",pipelineModel.stages[-2].explainedVariance)"
   ]
  },
  {
   "cell_type": "code",
   "execution_count": 0,
   "metadata": {
    "application/vnd.databricks.v1+cell": {
     "cellMetadata": {},
     "inputWidgets": {},
     "nuid": "f5af8b2e-228d-420d-be25-ba34ca98498b",
     "showTitle": false,
     "title": ""
    }
   },
   "outputs": [],
   "source": [
    "cvPredLR.createOrReplaceTempView(\"finalPredictionsLR\")"
   ]
  },
  {
   "cell_type": "code",
   "execution_count": 0,
   "metadata": {
    "application/vnd.databricks.v1+cell": {
     "cellMetadata": {
      "implicitDf": true
     },
     "inputWidgets": {},
     "nuid": "d0d155f8-7c68-45e2-808b-49f3e6738f70",
     "showTitle": false,
     "title": ""
    }
   },
   "outputs": [],
   "source": [
    "# -- %sql\n",
    "# -- SELECT us_popularity_estimate, prediction, count(*) AS count\n",
    "# -- FROM finalPredictionsLR\n",
    "# -- GROUP BY us_popularity_estimate, prediction\n",
    "# -- ORDER BY us_popularity_estimate DESC"
   ]
  },
  {
   "cell_type": "code",
   "execution_count": 0,
   "metadata": {
    "application/vnd.databricks.v1+cell": {
     "cellMetadata": {},
     "inputWidgets": {},
     "nuid": "6b8ed305-6254-4f19-8ac3-fcc4d1f79729",
     "showTitle": false,
     "title": ""
    }
   },
   "outputs": [],
   "source": [
    "# best_model = cv.bestModel\n",
    "# params = best_model.extractParamMap()\n",
    "# AUC = bcevaluator.evaluate(best_model)\n",
    "# print(\"Model - AUC: {}\".format(AUC))\n",
    "# print(\"Model - Parameters: {}\".format(params))"
   ]
  },
  {
   "cell_type": "markdown",
   "metadata": {
    "application/vnd.databricks.v1+cell": {
     "cellMetadata": {},
     "inputWidgets": {},
     "nuid": "7ff3a4a1-c76c-4b68-be51-d7ddbcdbbfb3",
     "showTitle": false,
     "title": ""
    }
   },
   "source": [
    "### Decision Trees"
   ]
  },
  {
   "cell_type": "markdown",
   "metadata": {
    "application/vnd.databricks.v1+cell": {
     "cellMetadata": {},
     "inputWidgets": {},
     "nuid": "37c3d186-f943-4f72-868a-12dca0a45a17",
     "showTitle": false,
     "title": ""
    }
   },
   "source": [
    "When using DTs, we cannot have categorical features with more than 50 possible values so we must remove the columns with such issues"
   ]
  },
  {
   "cell_type": "code",
   "execution_count": 0,
   "metadata": {
    "application/vnd.databricks.v1+cell": {
     "cellMetadata": {},
     "inputWidgets": {},
     "nuid": "24c31fe1-296d-481f-be09-60f9ee6aecd5",
     "showTitle": false,
     "title": ""
    }
   },
   "outputs": [
    {
     "output_type": "stream",
     "name": "stdout",
     "output_type": "stream",
     "text": [
      "+----------+------------+-------------------------------+-----------------------------+--------+----------------------------------------+--------------------------------------+-----------------+\n|session_id|context_type|hist_user_behavior_reason_start|hist_user_behavior_reason_end|track_id|previous_hist_user_behavior_reason_start|previous_hist_user_behavior_reason_end|previous_track_id|\n+----------+------------+-------------------------------+-----------------------------+--------+----------------------------------------+--------------------------------------+-----------------+\n|     10000|           6|                              9|                            7|   40540|                                       9|                                     7|            40474|\n+----------+------------+-------------------------------+-----------------------------+--------+----------------------------------------+--------------------------------------+-----------------+\n\n"
     ]
    }
   ],
   "source": [
    "from pyspark.sql.functions import col, countDistinct\n",
    "\n",
    "categorical_cols = [col_name for col_name, col_type in train_spdf.dtypes if col_type in ('string', 'boolean')]\n",
    "\n",
    "train_spdf.select(*categorical_cols).agg(*(countDistinct(col(col_name)).alias(col_name) for col_name in categorical_cols)).show()"
   ]
  },
  {
   "cell_type": "code",
   "execution_count": 0,
   "metadata": {
    "application/vnd.databricks.v1+cell": {
     "cellMetadata": {},
     "inputWidgets": {},
     "nuid": "230d6596-127c-4d47-a216-df74a4e54bf4",
     "showTitle": false,
     "title": ""
    }
   },
   "outputs": [
    {
     "output_type": "stream",
     "name": "stdout",
     "output_type": "stream",
     "text": [
      "117413\n50467\n"
     ]
    }
   ],
   "source": [
    "#Deleting columns with too many unique categories - this will not work for tree algorithms\n",
    "\n",
    "#(train_spdf, test_spdf) = spotify_spdf.randomSplit([0.7, 0.3])\n",
    "columns_to_drop = ['session_id', 'track_id','previous_track_id','hist_user_behavior_reason_end','hist_user_behavior_reason_start','previous_hist_user_behavior_reason_end']\n",
    "train_spdf = train_spdf.drop(*columns_to_drop)\n",
    "test_spdf = test_spdf.drop(*columns_to_drop)\n",
    "print(train_spdf.count()) \n",
    "print(test_spdf.count())"
   ]
  },
  {
   "cell_type": "code",
   "execution_count": 0,
   "metadata": {
    "application/vnd.databricks.v1+cell": {
     "cellMetadata": {},
     "inputWidgets": {},
     "nuid": "1a4262ff-6905-4724-b3bb-cf636239fafb",
     "showTitle": false,
     "title": ""
    }
   },
   "outputs": [],
   "source": [
    "#cast numerical columns to float\n",
    "categorical_cols = [#'context_type',  #'hist_user_behavior_reason_start', #'hist_user_behavior_reason_end',\n",
    "                    'previous_hist_user_behavior_reason_start']#, 'previous_hist_user_behavior_reason_end']\n",
    "numerical_cols = (train_spdf.select([c for c in train_spdf.columns if c not in categorical_cols and c != 'skipped'])).columns\n",
    "label_col = ['skipped']\n",
    "train_spdf  = convertColumn(train_spdf,  numerical_cols + label_col, FloatType())\n",
    "test_spdf   = convertColumn(test_spdf,   numerical_cols , FloatType())\n",
    "\n",
    "# fill missing values with 0\n",
    "train_spdf  = train_spdf.dropna()\n",
    "test_spdf   = test_spdf.dropna()\n",
    "\n",
    "stages = []\n",
    "\n",
    "for categorical_col in categorical_cols:\n",
    "    string_indexer = StringIndexer(inputCol=categorical_col, outputCol=categorical_col + \"_index\", handleInvalid='keep')\n",
    "    stages += [string_indexer]\n",
    "\n",
    "assembler_inputs = numerical_cols + [c + \"_index\" for c in categorical_cols]\n",
    "assembler = VectorAssembler(inputCols=assembler_inputs, outputCol=\"features\")\n",
    "\n",
    "stages  += [assembler]"
   ]
  },
  {
   "cell_type": "code",
   "execution_count": 0,
   "metadata": {
    "application/vnd.databricks.v1+cell": {
     "cellMetadata": {},
     "inputWidgets": {},
     "nuid": "49e07f08-2ed5-4fcc-9196-275d3f8b6396",
     "showTitle": false,
     "title": ""
    }
   },
   "outputs": [
    {
     "output_type": "stream",
     "name": "stdout",
     "output_type": "stream",
     "text": [
      "117413\n50466\n"
     ]
    }
   ],
   "source": [
    "print(train_spdf.count()) \n",
    "print(test_spdf.count())"
   ]
  },
  {
   "cell_type": "code",
   "execution_count": 0,
   "metadata": {
    "application/vnd.databricks.v1+cell": {
     "cellMetadata": {},
     "inputWidgets": {},
     "nuid": "539ac2b7-f513-451c-bb36-4889d9420b65",
     "showTitle": false,
     "title": ""
    }
   },
   "outputs": [],
   "source": [
    "dt = DecisionTreeClassifier(labelCol=\"skipped\", featuresCol=\"features\")"
   ]
  },
  {
   "cell_type": "code",
   "execution_count": 0,
   "metadata": {
    "application/vnd.databricks.v1+cell": {
     "cellMetadata": {},
     "inputWidgets": {},
     "nuid": "4925bc52-851b-4ab7-8f59-f720427fb4c2",
     "showTitle": false,
     "title": ""
    }
   },
   "outputs": [],
   "source": [
    "# Define a grid of hyperparameters to test:\n",
    "#  - maxDepth: maximum depth of each decision tree \n",
    "#  - maxIter: iterations, or the total number of trees \n",
    "paramGrid = ParamGridBuilder()\\\n",
    "  .addGrid(dt.maxDepth, [15, 30])\\\n",
    "  .addGrid(dt.maxBins, [10, 60, 80])\\\n",
    "  .build()\n",
    " \n",
    "# Define an evaluation metric.  The CrossValidator compares the true labels with predicted values for each combination of parameters, and calculates this value to determine the best model.\n",
    "bcevaluator = BinaryClassificationEvaluator(metricName=\"areaUnderROC\", rawPredictionCol=\"rawPrediction\", labelCol='skipped')\n",
    "mcEvaluator = MulticlassClassificationEvaluator(metricName=\"accuracy\", labelCol='skipped')\n",
    " \n",
    "# Declare the CrossValidator, which performs the model tuning.\n",
    "cv = CrossValidator(estimator=dt, evaluator=bcevaluator, estimatorParamMaps=paramGrid)"
   ]
  },
  {
   "cell_type": "code",
   "execution_count": 0,
   "metadata": {
    "application/vnd.databricks.v1+cell": {
     "cellMetadata": {},
     "inputWidgets": {},
     "nuid": "2b6e3ec6-9253-4e3a-829a-5b3159fcbbcd",
     "showTitle": false,
     "title": ""
    }
   },
   "outputs": [],
   "source": [
    "pca = PCA(k=50, inputCol=\"features\", outputCol=\"pcaFeatures\")\n",
    "selector = ChiSqSelector(numTopFeatures=50, featuresCol=\"features\",\n",
    "                         outputCol=\"selectedFeatures\", labelCol=\"skipped\")"
   ]
  },
  {
   "cell_type": "code",
   "execution_count": 0,
   "metadata": {
    "application/vnd.databricks.v1+cell": {
     "cellMetadata": {},
     "inputWidgets": {},
     "nuid": "cf8337af-b11b-4f81-b8fd-015bb9315c68",
     "showTitle": false,
     "title": ""
    }
   },
   "outputs": [
    {
     "output_type": "stream",
     "name": "stdout",
     "output_type": "stream",
     "text": [
      "--- 2851.278951883316 seconds ---\nCPU times: user 3.81 s, sys: 2.33 s, total: 6.14 s\nWall time: 47min 31s\n"
     ]
    }
   ],
   "source": [
    "%%time\n",
    "start_time =time.time()\n",
    "stagesDT = stages + [cv]\n",
    "full_pipeline = Pipeline(stages=stagesDT)\n",
    "pipelineModel = full_pipeline.fit(train_spdf)\n",
    "print( \"--- %s seconds ---\" % (time.time() - start_time))"
   ]
  },
  {
   "cell_type": "markdown",
   "metadata": {
    "application/vnd.databricks.v1+cell": {
     "cellMetadata": {},
     "inputWidgets": {},
     "nuid": "40c034ad-6eb8-4d85-9162-611bc3339f66",
     "showTitle": false,
     "title": ""
    }
   },
   "source": [
    "We can save our final model for later use in our final model notebook, this is similar to how a data team might work in a production environment"
   ]
  },
  {
   "cell_type": "code",
   "execution_count": 0,
   "metadata": {
    "application/vnd.databricks.v1+cell": {
     "cellMetadata": {},
     "inputWidgets": {},
     "nuid": "3910e70e-164a-4119-ac6c-daafc042d417",
     "showTitle": false,
     "title": ""
    }
   },
   "outputs": [],
   "source": [
    "bestModel = pipelineModel.stages[-1].bestModel\n",
    "from pyspark.ml.util import MLWriter\n",
    "\n",
    "# Delete current model\n",
    "dbutils.fs.rm(\"dbfs/final_model\", True)\n",
    "# Saving the model\n",
    "pipelineModel.save(\"dbfs/final_model\")"
   ]
  },
  {
   "cell_type": "code",
   "execution_count": 0,
   "metadata": {
    "application/vnd.databricks.v1+cell": {
     "cellMetadata": {},
     "inputWidgets": {},
     "nuid": "60c461ea-279c-4b8b-9988-acc0f218d849",
     "showTitle": false,
     "title": ""
    }
   },
   "outputs": [],
   "source": [
    "cvPredDT = pipelineModel.transform(test_spdf)"
   ]
  },
  {
   "cell_type": "code",
   "execution_count": 0,
   "metadata": {
    "application/vnd.databricks.v1+cell": {
     "cellMetadata": {},
     "inputWidgets": {},
     "nuid": "8aefafbe-426e-4155-ac9d-d1e8493224db",
     "showTitle": false,
     "title": ""
    }
   },
   "outputs": [],
   "source": [
    "# print(\"Explained variance by principal components:\",pipelineModel.stages[-2].explainedVariance)"
   ]
  },
  {
   "cell_type": "code",
   "execution_count": 0,
   "metadata": {
    "application/vnd.databricks.v1+cell": {
     "cellMetadata": {},
     "inputWidgets": {},
     "nuid": "e18f4526-2f3f-43f4-b049-de8678bf6a46",
     "showTitle": false,
     "title": ""
    }
   },
   "outputs": [
    {
     "output_type": "stream",
     "name": "stdout",
     "output_type": "stream",
     "text": [
      "Area under ROC curve: 0.7063582404355624\nAccuracy: 0.7058613720128404\n"
     ]
    }
   ],
   "source": [
    "print(f\"Area under ROC curve: {bcevaluator.evaluate(cvPredDT)}\")\n",
    "print(f\"Accuracy: {mcEvaluator.evaluate(cvPredDT)}\")"
   ]
  },
  {
   "cell_type": "markdown",
   "metadata": {
    "application/vnd.databricks.v1+cell": {
     "cellMetadata": {},
     "inputWidgets": {},
     "nuid": "203ffec8-e4f7-476f-a84f-80cd4783af6e",
     "showTitle": false,
     "title": ""
    }
   },
   "source": [
    "We can look at the feature importances using our DT model"
   ]
  },
  {
   "cell_type": "code",
   "execution_count": 0,
   "metadata": {
    "application/vnd.databricks.v1+cell": {
     "cellMetadata": {},
     "inputWidgets": {},
     "nuid": "d45f5636-ca79-4c1b-a8bb-69623651086b",
     "showTitle": false,
     "title": ""
    }
   },
   "outputs": [
    {
     "output_type": "stream",
     "name": "stdout",
     "output_type": "stream",
     "text": [
      "0.45612537532148617 previous_skipped\n0.07572138245128957 session_position\n0.0566950451811663 previous_hist_user_behavior_reason_start_index\n0.05268523443572859 speechiness\n0.05036111390550791 acoustic_vector_0\n0.045604983361696355 previous_duration\n0.04535211037931124 previous_acousticness\n0.036720448655432725 previous_acoustic_vector_6\n0.03494277086039699 previous_acoustic_vector_0\n0.03453264018720878 session_length\n0.03296030505455206 previous_no_pause_before_play\n0.01976568651483101 no_pause_before_play\n0.018082404608740603 context_type\n0.01602118249556911 context_switch\n0.015886105289590398 hist_user_behavior_n_seekback\n0.006075848654735707 hist_user_behavior_is_shuffle\n0.0024673626427565215 previous_hist_user_behavior_is_shuffle\n"
     ]
    }
   ],
   "source": [
    "bestModel = pipelineModel.stages[-1].bestModel\n",
    "importances = bestModel.featureImportances\n",
    "feature_names = [col for col in train_spdf.columns if col != 'skipped']\n",
    "sorted_importances = sorted(zip(importances, assembler_inputs), key=lambda x: x[0], reverse=True)\n",
    "for feature, importance in sorted_importances:\n",
    "    print(feature, importance)"
   ]
  },
  {
   "cell_type": "markdown",
   "metadata": {
    "application/vnd.databricks.v1+cell": {
     "cellMetadata": {},
     "inputWidgets": {},
     "nuid": "d73996c3-945e-48dc-a723-443963e59d14",
     "showTitle": false,
     "title": ""
    }
   },
   "source": [
    "We can also visualise the decision tree to better understand how it got to its output"
   ]
  },
  {
   "cell_type": "code",
   "execution_count": 0,
   "metadata": {
    "application/vnd.databricks.v1+cell": {
     "cellMetadata": {},
     "inputWidgets": {},
     "nuid": "995b10f2-c7e2-45f7-ab58-bd74261983e0",
     "showTitle": false,
     "title": ""
    }
   },
   "outputs": [
    {
     "output_type": "stream",
     "name": "stdout",
     "output_type": "stream",
     "text": [
      "DecisionTreeClassificationModel: uid=DecisionTreeClassifier_7358d5ad032f, depth=15, numNodes=7885, numClasses=2, numFeatures=74\n  If (feature 41 <= 0.5)\n   If (feature 73 in {0.0,2.0,3.0,4.0,5.0,6.0,7.0,8.0})\n    If (feature 3 <= 0.5)\n     If (feature 6 <= 0.5)\n      If (feature 72 in {2.0,3.0,4.0,5.0})\n       If (feature 33 <= -0.132774256169796)\n        If (feature 11 <= 99.99957656860352)\n         If (feature 42 <= 241.8919677734375)\n          If (feature 1 <= 17.5)\n           If (feature 62 <= 0.4947872757911682)\n            If (feature 33 <= -0.22053587436676025)\n             If (feature 42 <= 219.64127349853516)\n              If (feature 51 <= 0.9843024611473083)\n               If (feature 43 <= 2011.5)\n                Predict: 1.0\n               Else (feature 43 > 2011.5)\n                Predict: 0.0\n              Else (feature 51 > 0.9843024611473083)\n               If (feature 55 <= -4.88100004196167)\n                If (feature 19 <= -10.512499809265137)\n                 Predict: 1.0\n                Else (feature 19 > -10.512499809265137)\n                 Predict: 0.0\n               Else (feature 55 > -4.88100004196167)\n                If (feature 68 <= 0.023316319100558758)\n                 Predict: 0.0\n                Else (feature 68 > 0.023316319100558758)\n                 Predict: 1.0\n             Else (feature 42 > 219.64127349853516)\n              If (feature 69 <= -0.5650221407413483)\n               Predict: 0.0\n              Else (feature 69 > -0.5650221407413483)\n               If (feature 26 <= 0.3659442067146301)\n                If (feature 7 <= 1.5)\n                 Predict: 0.0\n                Else (feature 7 > 1.5)\n                 Predict: 1.0\n               Else (feature 26 > 0.3659442067146301)\n                If (feature 22 <= 0.36908698081970215)\n                 Predict: 1.0\n                Else (feature 22 > 0.36908698081970215)\n                 Predict: 0.0\n            Else (feature 33 > -0.22053587436676025)\n             If (feature 5 <= 0.5)\n              If (feature 9 <= 284.69456481933594)\n               Predict: 0.0\n              Else (feature 9 > 284.69456481933594)\n               Predict: 1.0\n             Else (feature 5 > 0.5)\n              Predict: 1.0\n           Else (feature 62 > 0.4947872757911682)\n            If (feature 31 <= 0.6407820582389832)\n             If (feature 60 <= 94.99099731445312)\n              If (feature 19 <= -3.1610000133514404)\n               If (feature 23 <= 0.030372649431228638)\n                If (feature 0 <= 3.5)\n                 Predict: 1.0\n                Else (feature 0 > 3.5)\n                 Predict: 0.0\n               Else (feature 23 > 0.030372649431228638)\n                Predict: 0.0\n              Else (feature 19 > -3.1610000133514404)\n               Predict: 1.0\n             Else (feature 60 > 94.99099731445312)\n              If (feature 58 <= 0.6013768911361694)\n               If (feature 13 <= 0.8041798770427704)\n                If (feature 4 <= 0.5)\n                 Predict: 0.0\n                Else (feature 4 > 0.5)\n                 Predict: 1.0\n               Else (feature 13 > 0.8041798770427704)\n                If (feature 23 <= 0.24081628769636154)\n                 Predict: 1.0\n                Else (feature 23 > 0.24081628769636154)\n                 Predict: 0.0\n              Else (feature 58 > 0.6013768911361694)\n               Predict: 1.0\n            Else (feature 31 > 0.6407820582389832)\n             Predict: 1.0\n          Else (feature 1 > 17.5)\n           If (feature 43 <= 1977.5)\n            If (feature 67 <= 0.698767900466919)\n             If (feature 46 <= 0.6332505643367767)\n              Predict: 0.0\n             Else (feature 46 > 0.6332505643367767)\n              Predict: 1.0\n            Else (feature 67 > 0.698767900466919)\n             If (feature 0 <= 16.5)\n              Predict: 1.0\n             Else (feature 0 > 16.5)\n              Predict: 0.0\n           Else (feature 43 > 1977.5)\n            If (feature 70 <= 0.2507758289575577)\n             If (feature 67 <= -0.42598095536231995)\n              If (feature 10 <= 2009.5)\n               Predict: 1.0\n              Else (feature 10 > 2009.5)\n               Predict: 0.0\n             Else (feature 67 > -0.42598095536231995)\n              If (feature 12 <= 0.0013534353929571807)\n               If (feature 16 <= 3.3028085821840136E-10)\n                Predict: 1.0\n               Else (feature 16 > 3.3028085821840136E-10)\n                If (feature 9 <= 115.40616989135742)\n                 Predict: 1.0\n                Else (feature 9 > 115.40616989135742)\n                 Predict: 0.0\n              Else (feature 12 > 0.0013534353929571807)\n               If (feature 69 <= -0.27473779022693634)\n                If (feature 52 <= 9.987760271612522E-11)\n                 Predict: 1.0\n                Else (feature 52 > 9.987760271612522E-11)\n                 Predict: 0.0\n               Else (feature 69 > -0.27473779022693634)\n                If (feature 26 <= 0.5840111970901489)\n                 Predict: 1.0\n                Else (feature 26 > 0.5840111970901489)\n                 Predict: 0.0\n            Else (feature 70 > 0.2507758289575577)\n             If (feature 64 <= 0.4176903963088989)\n              If (feature 30 <= 0.19462181627750397)\n               If (feature 0 <= 15.5)\n                Predict: 1.0\n               Else (feature 0 > 15.5)\n                If (feature 0 <= 18.5)\n                 Predict: 0.0\n                Else (feature 0 > 18.5)\n                 Predict: 1.0\n              Else (feature 30 > 0.19462181627750397)\n               Predict: 0.0\n             Else (feature 64 > 0.4176903963088989)\n              If (feature 12 <= 6.51681621093303E-4)\n               If (feature 1 <= 18.5)\n                Predict: 0.0\n               Else (feature 1 > 18.5)\n                Predict: 1.0\n              Else (feature 12 > 6.51681621093303E-4)\n               If (feature 18 <= 0.0694761611521244)\n                Predict: 1.0\n               Else (feature 18 > 0.0694761611521244)\n                Predict: 0.0\n         Else (feature 42 > 241.8919677734375)\n          If (feature 64 <= 0.2976761758327484)\n           If (feature 28 <= -0.06550628691911697)\n            If (feature 16 <= 0.00992172583937645)\n             If (feature 14 <= 0.53156778216362)\n              If (feature 7 <= 9.5)\n               Predict: 1.0\n              Else (feature 7 > 9.5)\n               Predict: 0.0\n             Else (feature 14 > 0.53156778216362)\n              Predict: 1.0\n            Else (feature 16 > 0.00992172583937645)\n             If (feature 0 <= 2.5)\n              If (feature 0 <= 1.5)\n               Predict: 0.0\n              Else (feature 0 > 1.5)\n               Predict: 1.0\n             Else (feature 0 > 2.5)\n              Predict: 0.0\n           Else (feature 28 > -0.06550628691911697)\n            If (feature 19 <= -12.464000225067139)\n             Predict: 1.0\n            Else (feature 19 > -12.464000225067139)\n             If (feature 20 <= 0.8520877063274384)\n              If (feature 68 <= 0.21052837371826172)\n               If (feature 62 <= 0.12485679239034653)\n                If (feature 13 <= 0.6950550675392151)\n                 Predict: 1.0\n                Else (feature 13 > 0.6950550675392151)\n                 Predict: 0.0\n               Else (feature 62 > 0.12485679239034653)\n                Predict: 0.0\n              Else (feature 68 > 0.21052837371826172)\n               If (feature 58 <= 0.22376098483800888)\n                Predict: 0.0\n               Else (feature 58 > 0.22376098483800888)\n                If (feature 0 <= 15.5)\n                 Predict: 1.0\n                Else (feature 0 > 15.5)\n                 Predict: 0.0\n             Else (feature 20 > 0.8520877063274384)\n              Predict: 1.0\n          Else (feature 64 > 0.2976761758327484)\n           If (feature 19 <= -9.014999866485596)\n            If (feature 32 <= -0.05336691066622734)\n             Predict: 1.0\n            Else (feature 32 > -0.05336691066622734)\n             Predict: 0.0\n           Else (feature 19 > -9.014999866485596)\n            If (feature 70 <= 6.132705311756581E-5)\n             If (feature 32 <= 0.2097284123301506)\n              Predict: 1.0\n             Else (feature 32 > 0.2097284123301506)\n              Predict: 0.0\n            Else (feature 70 > 6.132705311756581E-5)\n             If (feature 73 in {0.0,3.0,4.0,6.0})\n              If (feature 27 <= -0.8281419277191162)\n               If (feature 29 <= 0.2640363425016403)\n                If (feature 30 <= 0.14550051093101501)\n                 Predict: 1.0\n                Else (feature 30 > 0.14550051093101501)\n                 Predict: 0.0\n               Else (feature 29 > 0.2640363425016403)\n                If (feature 1 <= 11.5)\n                 Predict: 1.0\n                Else (feature 1 > 11.5)\n                 Predict: 0.0\n              Else (feature 27 > -0.8281419277191162)\n               If (feature 39 <= 0.5)\n                If (feature 9 <= 363.6273956298828)\n                 Predict: 0.0\n                Else (feature 9 > 363.6273956298828)\n                 Predict: 1.0\n               Else (feature 39 > 0.5)\n                If (feature 5 <= 0.5)\n                 Predict: 1.0\n                Else (feature 5 > 0.5)\n                 Predict: 0.0\n             Else (feature 73 not in {0.0,3.0,4.0,6.0})\n              If (feature 42 <= 290.76666259765625)\n               If (feature 63 <= -0.8280861675739288)\n                If (feature 11 <= 99.97598266601562)\n                 Predict: 0.0\n                Else (feature 11 > 99.97598266601562)\n                 Predict: 1.0\n               Else (feature 63 > -0.8280861675739288)\n                Predict: 1.0\n              Else (feature 42 > 290.76666259765625)\n               Predict: 0.0\n        Else (feature 11 > 99.99957656860352)\n         If (feature 59 <= 0.0411746259778738)\n          If (feature 52 <= 2.1575536912621374E-9)\n           If (feature 16 <= 3.3669316223949863E-8)\n            Predict: 1.0\n           Else (feature 16 > 3.3669316223949863E-8)\n            If (feature 7 <= 9.5)\n             If (feature 0 <= 11.5)\n              Predict: 1.0\n             Else (feature 0 > 11.5)\n              Predict: 0.0\n            Else (feature 7 > 9.5)\n             If (feature 0 <= 13.5)\n              Predict: 0.0\n             Else (feature 0 > 13.5)\n              If (feature 0 <= 16.5)\n               Predict: 1.0\n              Else (feature 0 > 16.5)\n               If (feature 1 <= 19.5)\n                If (feature 0 <= 17.5)\n                 Predict: 0.0\n                Else (feature 0 > 17.5)\n                 Predict: 1.0\n               Else (feature 1 > 19.5)\n                Predict: 0.0\n          Else (feature 52 > 2.1575536912621374E-9)\n           If (feature 65 <= -0.16033249348402023)\n            Predict: 1.0\n           Else (feature 65 > -0.16033249348402023)\n            If (feature 52 <= 0.009869157802313566)\n             Predict: 0.0\n            Else (feature 52 > 0.009869157802313566)\n             If (feature 1 <= 11.5)\n              Predict: 1.0\n             Else (feature 1 > 11.5)\n              Predict: 0.0\n         Else (feature 59 > 0.0411746259778738)\n          If (feature 70 <= 0.17390305548906326)\n           If (feature 32 <= -0.03774109669029713)\n            If (feature 7 <= 2.5)\n             Predict: 0.0\n            Else (feature 7 > 2.5)\n             If (feature 46 <= 0.5932717323303223)\n              If (feature 42 <= 136.32471466064453)\n               If (feature 0 <= 7.5)\n                Predict: 0.0\n               Else (feature 0 > 7.5)\n                Predict: 1.0\n              Else (feature 42 > 136.32471466064453)\n               Predict: 1.0\n             Else (feature 46 > 0.5932717323303223)\n              If (feature 0 <= 11.5)\n               If (feature 34 <= 0.13098981976509094)\n                If (feature 0 <= 10.5)\n                 Predict: 0.0\n                Else (feature 0 > 10.5)\n                 Predict: 1.0\n               Else (feature 34 > 0.13098981976509094)\n                If (feature 43 <= 2017.5)\n                 Predict: 0.0\n                Else (feature 43 > 2017.5)\n                 Predict: 1.0\n              Else (feature 0 > 11.5)\n               Predict: 0.0\n           Else (feature 32 > -0.03774109669029713)\n            If (feature 44 <= 99.99605178833008)\n             If (feature 48 <= 0.9025866389274597)\n              If (feature 15 <= 1.050282061100006)\n               If (feature 55 <= -3.3980000019073486)\n                If (feature 0 <= 15.5)\n                 Predict: 0.0\n                Else (feature 0 > 15.5)\n                 Predict: 1.0\n               Else (feature 55 > -3.3980000019073486)\n                If (feature 1 <= 16.5)\n                 Predict: 0.0\n                Else (feature 1 > 16.5)\n                 Predict: 1.0\n              Else (feature 15 > 1.050282061100006)\n               If (feature 0 <= 1.5)\n                Predict: 1.0\n               Else (feature 0 > 1.5)\n                Predict: 0.0\n             Else (feature 48 > 0.9025866389274597)\n              Predict: 1.0\n            Else (feature 44 > 99.99605178833008)\n             If (feature 14 <= 0.8374198377132416)\n              If (feature 43 <= 2013.5)\n               Predict: 1.0\n              Else (feature 43 > 2013.5)\n               If (feature 54 <= 0.4652458131313324)\n                Predict: 0.0\n               Else (feature 54 > 0.4652458131313324)\n                Predict: 1.0\n             Else (feature 14 > 0.8374198377132416)\n              Predict: 1.0\n          Else (feature 70 > 0.17390305548906326)\n           If (feature 70 <= 0.18050114810466766)\n            If (feature 9 <= 233.71632385253906)\n             Predict: 1.0\n            Else (feature 9 > 233.71632385253906)\n             If (feature 7 <= 14.5)\n              Predict: 1.0\n             Else (feature 7 > 14.5)\n              If (feature 0 <= 1.5)\n               Predict: 1.0\n              Else (feature 0 > 1.5)\n               Predict: 0.0\n           Else (feature 70 > 0.18050114810466766)\n            If (feature 18 <= 0.14949003607034683)\n             If (feature 45 <= 0.09063486382365227)\n              If (feature 26 <= 0.49716469645500183)\n               If (feature 44 <= 99.99977493286133)\n                If (feature 43 <= 2014.5)\n                 Predict: 1.0\n                Else (feature 43 > 2014.5)\n                 Predict: 0.0\n               Else (feature 44 > 99.99977493286133)\n                Predict: 1.0\n              Else (feature 26 > 0.49716469645500183)\n               Predict: 1.0\n             Else (feature 45 > 0.09063486382365227)\n              If (feature 59 <= 0.04929614067077637)\n               If (feature 12 <= 0.025275700725615025)\n                If (feature 7 <= 20.5)\n                 Predict: 0.0\n                Else (feature 7 > 20.5)\n                 Predict: 1.0\n               Else (feature 12 > 0.025275700725615025)\n                Predict: 1.0\n              Else (feature 59 > 0.04929614067077637)\n               If (feature 73 in {0.0,2.0,4.0})\n                If (feature 52 <= 0.12348080426454544)\n                 Predict: 0.0\n                Else (feature 52 > 0.12348080426454544)\n                 Predict: 1.0\n               Else (feature 73 not in {0.0,2.0,4.0})\n                If (feature 56 <= 0.6942360401153564)\n                 Predict: 0.0\n                Else (feature 56 > 0.6942360401153564)\n                 Predict: 1.0\n            Else (feature 18 > 0.14949003607034683)\n             If (feature 63 <= -0.8844403624534607)\n              If (feature 0 <= 13.5)\n               Predict: 0.0\n              Else (feature 0 > 13.5)\n               Predict: 1.0\n             Else (feature 63 > -0.8844403624534607)\n              If (feature 59 <= 0.06576437875628471)\n               If (feature 27 <= -0.8786434531211853)\n                If (feature 0 <= 13.5)\n                 Predict: 1.0\n                Else (feature 0 > 13.5)\n                 Predict: 0.0\n               Else (feature 27 > -0.8786434531211853)\n                If (feature 0 <= 1.5)\n                 Predict: 1.0\n                Else (feature 0 > 1.5)\n                 Predict: 0.0\n              Else (feature 59 > 0.06576437875628471)\n               If (feature 42 <= 163.96449279785156)\n                If (feature 59 <= 0.24708565324544907)\n                 Predict: 0.0\n                Else (feature 59 > 0.24708565324544907)\n                 Predict: 1.0\n               Else (feature 42 > 163.96449279785156)\n                Predict: 1.0\n       Else (feature 33 > -0.132774256169796)\n        If (feature 9 <= 277.43333435058594)\n         If (feature 1 <= 15.5)\n          If (feature 44 <= 99.27190399169922)\n           If (feature 7 <= 12.5)\n            If (feature 15 <= 1.0301491618156433)\n             If (feature 8 <= 0.5)\n              Predict: 0.0\n             Else (feature 8 > 0.5)\n              Predict: 1.0\n            Else (feature 15 > 1.0301491618156433)\n             Predict: 0.0\n           Else (feature 7 > 12.5)\n            Predict: 0.0\n          Else (feature 44 > 99.27190399169922)\n           If (feature 53 <= 9.5)\n            If (feature 13 <= 0.8041798770427704)\n             If (feature 48 <= 0.753671258687973)\n              If (feature 7 <= 9.5)\n               If (feature 42 <= 225.9000015258789)\n                If (feature 12 <= 0.02328620757907629)\n                 Predict: 0.0\n                Else (feature 12 > 0.02328620757907629)\n                 Predict: 1.0\n               Else (feature 42 > 225.9000015258789)\n                If (feature 10 <= 1968.5)\n                 Predict: 1.0\n                Else (feature 10 > 1968.5)\n                 Predict: 0.0\n              Else (feature 7 > 9.5)\n               If (feature 60 <= 162.05799865722656)\n                If (feature 54 <= 0.09484721720218658)\n                 Predict: 1.0\n                Else (feature 54 > 0.09484721720218658)\n                 Predict: 0.0\n               Else (feature 60 > 162.05799865722656)\n                Predict: 0.0\n             Else (feature 48 > 0.753671258687973)\n              If (feature 70 <= 0.20258832722902298)\n               If (feature 20 <= 0.8325353264808655)\n                If (feature 47 <= 0.8605499267578125)\n                 Predict: 0.0\n                Else (feature 47 > 0.8605499267578125)\n                 Predict: 1.0\n               Else (feature 20 > 0.8325353264808655)\n                Predict: 1.0\n              Else (feature 70 > 0.20258832722902298)\n               If (feature 13 <= 0.704435408115387)\n                If (feature 13 <= 0.48570944368839264)\n                 Predict: 1.0\n                Else (feature 13 > 0.48570944368839264)\n                 Predict: 0.0\n               Else (feature 13 > 0.704435408115387)\n                Predict: 1.0\n            Else (feature 13 > 0.8041798770427704)\n             Predict: 0.0\n           Else (feature 53 > 9.5)\n            If (feature 18 <= 0.09750063344836235)\n             If (feature 45 <= 0.02328620757907629)\n              Predict: 1.0\n             Else (feature 45 > 0.02328620757907629)\n              If (feature 71 <= 5.5)\n               If (feature 7 <= 21.5)\n                Predict: 1.0\n               Else (feature 7 > 21.5)\n                Predict: 0.0\n              Else (feature 71 > 5.5)\n               If (feature 0 <= 9.5)\n                Predict: 0.0\n               Else (feature 0 > 9.5)\n                If (feature 0 <= 10.5)\n                 Predict: 1.0\n                Else (feature 0 > 10.5)\n                 Predict: 0.0\n            Else (feature 18 > 0.09750063344836235)\n             Predict: 1.0\n         Else (feature 1 > 15.5)\n          If (feature 70 <= -0.3608679175376892)\n           If (feature 7 <= 19.5)\n            Predict: 1.0\n           Else (feature 7 > 19.5)\n            If (feature 7 <= 22.5)\n             Predict: 0.0\n            Else (feature 7 > 22.5)\n             Predict: 1.0\n          Else (feature 70 > -0.3608679175376892)\n           If (feature 1 <= 17.5)\n            If (feature 13 <= 0.6046991646289825)\n             Predict: 1.0\n            Else (feature 13 > 0.6046991646289825)\n             If (feature 54 <= 0.12409764528274536)\n              If (feature 11 <= 99.95221328735352)\n               Predict: 1.0\n              Else (feature 11 > 99.95221328735352)\n               If (feature 50 <= 0.7165167033672333)\n                Predict: 0.0\n               Else (feature 50 > 0.7165167033672333)\n                Predict: 1.0\n             Else (feature 54 > 0.12409764528274536)\n              If (feature 38 <= 1.5)\n               Predict: 1.0\n              Else (feature 38 > 1.5)\n               Predict: 0.0\n           Else (feature 1 > 17.5)\n            If (feature 48 <= 0.6864624917507172)\n             If (feature 53 <= 4.5)\n              If (feature 42 <= 234.39596557617188)\n               If (feature 18 <= 0.09332049638032913)\n                Predict: 1.0\n               Else (feature 18 > 0.09332049638032913)\n                If (feature 2 <= 0.5)\n                 Predict: 0.0\n                Else (feature 2 > 0.5)\n                 Predict: 1.0\n              Else (feature 42 > 234.39596557617188)\n               If (feature 7 <= 4.5)\n                Predict: 1.0\n               Else (feature 7 > 4.5)\n                Predict: 0.0\n             Else (feature 53 > 4.5)\n              If (feature 54 <= 0.1355098932981491)\n               If (feature 28 <= 0.48597072064876556)\n                If (feature 67 <= -0.40369874238967896)\n                 Predict: 1.0\n                Else (feature 67 > -0.40369874238967896)\n                 Predict: 0.0\n               Else (feature 28 > 0.48597072064876556)\n                If (feature 5 <= 0.5)\n                 Predict: 1.0\n                Else (feature 5 > 0.5)\n                 Predict: 0.0\n              Else (feature 54 > 0.1355098932981491)\n               If (feature 7 <= 20.5)\n                If (feature 15 <= 1.050282061100006)\n                 Predict: 0.0\n                Else (feature 15 > 1.050282061100006)\n                 Predict: 1.0\n               Else (feature 7 > 20.5)\n                Predict: 1.0\n            Else (feature 48 > 0.6864624917507172)\n             If (feature 7 <= 11.5)\n              If (feature 11 <= 99.59378433227539)\n               Predict: 1.0\n              Else (feature 11 > 99.59378433227539)\n               If (feature 40 <= 0.5)\n                Predict: 0.0\n               Else (feature 40 > 0.5)\n                Predict: 1.0\n             Else (feature 7 > 11.5)\n              If (feature 45 <= 0.05555332079529762)\n               If (feature 57 <= 0.5)\n                If (feature 9 <= 233.71632385253906)\n                 Predict: 1.0\n                Else (feature 9 > 233.71632385253906)\n                 Predict: 0.0\n               Else (feature 57 > 0.5)\n                Predict: 0.0\n              Else (feature 45 > 0.05555332079529762)\n               If (feature 39 <= 0.5)\n                If (feature 58 <= 0.510037750005722)\n                 Predict: 1.0\n                Else (feature 58 > 0.510037750005722)\n                 Predict: 0.0\n               Else (feature 39 > 0.5)\n                If (feature 0 <= 10.5)\n                 Predict: 0.0\n                Else (feature 0 > 10.5)\n                 Predict: 1.0\n        Else (feature 9 > 277.43333435058594)\n         If (feature 10 <= 2003.5)\n          If (feature 59 <= 0.037322867661714554)\n           Predict: 1.0\n          Else (feature 59 > 0.037322867661714554)\n           If (feature 2 <= 0.5)\n            Predict: 0.0\n           Else (feature 2 > 0.5)\n            Predict: 1.0\n         Else (feature 10 > 2003.5)\n          If (feature 69 <= -0.07664329931139946)\n           If (feature 46 <= 0.6850691735744476)\n            If (feature 18 <= 0.08148479461669922)\n             If (feature 12 <= 0.2860991209745407)\n              Predict: 1.0\n             Else (feature 12 > 0.2860991209745407)\n              Predict: 0.0\n            Else (feature 18 > 0.08148479461669922)\n             If (feature 12 <= 6.51681621093303E-4)\n              Predict: 1.0\n             Else (feature 12 > 6.51681621093303E-4)\n              Predict: 0.0\n           Else (feature 46 > 0.6850691735744476)\n            Predict: 1.0\n          Else (feature 69 > -0.07664329931139946)\n           If (feature 12 <= 1.1013710172846913E-4)\n            Predict: 1.0\n           Else (feature 12 > 1.1013710172846913E-4)\n            Predict: 0.0\n      Else (feature 72 not in {2.0,3.0,4.0,5.0})\n       If (feature 9 <= 144.6181411743164)\n        If (feature 20 <= 0.7095617055892944)\n         If (feature 69 <= -0.17409028112888336)\n          If (feature 59 <= 0.3155617415904999)\n           If (feature 18 <= 0.3733917772769928)\n            If (feature 15 <= 1.0338271260261536)\n             If (feature 51 <= 0.9817183017730713)\n              If (feature 55 <= -6.299499988555908)\n               Predict: 0.0\n              Else (feature 55 > -6.2\n\n*** WARNING: max output size exceeded, skipping output. ***\n\nict: 1.0\n                Else (feature 62 > 0.07952682301402092)\n                 Predict: 0.0\n             Else (feature 1 > 19.5)\n              If (feature 15 <= 0.9360563457012177)\n               Predict: 0.0\n              Else (feature 15 > 0.9360563457012177)\n               If (feature 62 <= 0.6397560834884644)\n                If (feature 10 <= 1989.5)\n                 Predict: 0.0\n                Else (feature 10 > 1989.5)\n                 Predict: 1.0\n               Else (feature 62 > 0.6397560834884644)\n                Predict: 0.0\n           Else (feature 49 > 9.154372215270996)\n            If (feature 45 <= 0.03329085931181908)\n             If (feature 69 <= -0.45472390949726105)\n              Predict: 1.0\n             Else (feature 69 > -0.45472390949726105)\n              Predict: 0.0\n            Else (feature 45 > 0.03329085931181908)\n             If (feature 24 <= 83.90700149536133)\n              If (feature 0 <= 4.5)\n               Predict: 0.0\n              Else (feature 0 > 4.5)\n               Predict: 1.0\n             Else (feature 24 > 83.90700149536133)\n              If (feature 69 <= -0.588499516248703)\n               If (feature 15 <= 1.0338271260261536)\n                Predict: 0.0\n               Else (feature 15 > 1.0338271260261536)\n                Predict: 1.0\n              Else (feature 69 > -0.588499516248703)\n               Predict: 0.0\n          Else (feature 31 > 0.5863599479198456)\n           Predict: 1.0\n         Else (feature 3 > 0.5)\n          If (feature 0 <= 8.5)\n           If (feature 66 <= -0.545664370059967)\n            If (feature 17 <= 0.5)\n             Predict: 1.0\n            Else (feature 17 > 0.5)\n             Predict: 0.0\n           Else (feature 66 > -0.545664370059967)\n            If (feature 23 <= 0.035113535821437836)\n             If (feature 58 <= 0.34023676812648773)\n              If (feature 0 <= 6.5)\n               Predict: 1.0\n              Else (feature 0 > 6.5)\n               Predict: 0.0\n             Else (feature 58 > 0.34023676812648773)\n              Predict: 0.0\n            Else (feature 23 > 0.035113535821437836)\n             If (feature 70 <= 0.19086700677871704)\n              If (feature 16 <= 5.399058110311383E-11)\n               If (feature 72 in {1.0})\n                Predict: 0.0\n               Else (feature 72 not in {1.0})\n                If (feature 11 <= 99.99553298950195)\n                 Predict: 1.0\n                Else (feature 11 > 99.99553298950195)\n                 Predict: 0.0\n              Else (feature 16 > 5.399058110311383E-11)\n               If (feature 56 <= 0.9280624985694885)\n                If (feature 51 <= 0.9473730027675629)\n                 Predict: 0.0\n                Else (feature 51 > 0.9473730027675629)\n                 Predict: 1.0\n               Else (feature 56 > 0.9280624985694885)\n                If (feature 1 <= 18.5)\n                 Predict: 0.0\n                Else (feature 1 > 18.5)\n                 Predict: 1.0\n             Else (feature 70 > 0.19086700677871704)\n              If (feature 52 <= 2.5633284167270176E-5)\n               If (feature 44 <= 99.98971939086914)\n                If (feature 9 <= 217.9286880493164)\n                 Predict: 0.0\n                Else (feature 9 > 217.9286880493164)\n                 Predict: 1.0\n               Else (feature 44 > 99.98971939086914)\n                If (feature 19 <= -5.74399995803833)\n                 Predict: 1.0\n                Else (feature 19 > -5.74399995803833)\n                 Predict: 0.0\n              Else (feature 52 > 2.5633284167270176E-5)\n               If (feature 15 <= 1.0436258912086487)\n                If (feature 19 <= -3.8704999685287476)\n                 Predict: 1.0\n                Else (feature 19 > -3.8704999685287476)\n                 Predict: 0.0\n               Else (feature 15 > 1.0436258912086487)\n                Predict: 0.0\n          Else (feature 0 > 8.5)\n           If (feature 42 <= 115.32973098754883)\n            If (feature 7 <= 19.5)\n             Predict: 1.0\n            Else (feature 7 > 19.5)\n             Predict: 0.0\n           Else (feature 42 > 115.32973098754883)\n            If (feature 28 <= 0.16004391014575958)\n             If (feature 60 <= 158.0219955444336)\n              If (feature 65 <= -0.2200160101056099)\n               If (feature 11 <= 99.98144912719727)\n                Predict: 1.0\n               Else (feature 11 > 99.98144912719727)\n                Predict: 0.0\n              Else (feature 65 > -0.2200160101056099)\n               If (feature 11 <= 98.9739990234375)\n                If (feature 10 <= 1995.5)\n                 Predict: 0.0\n                Else (feature 10 > 1995.5)\n                 Predict: 1.0\n               Else (feature 11 > 98.9739990234375)\n                If (feature 7 <= 0.5)\n                 Predict: 1.0\n                Else (feature 7 > 0.5)\n                 Predict: 0.0\n             Else (feature 60 > 158.0219955444336)\n              Predict: 1.0\n            Else (feature 28 > 0.16004391014575958)\n             If (feature 45 <= 0.22159243375062943)\n              If (feature 27 <= 0.06119423732161522)\n               If (feature 9 <= 264.8359832763672)\n                If (feature 8 <= 0.5)\n                 Predict: 1.0\n                Else (feature 8 > 0.5)\n                 Predict: 0.0\n               Else (feature 9 > 264.8359832763672)\n                If (feature 18 <= 0.3733917772769928)\n                 Predict: 1.0\n                Else (feature 18 > 0.3733917772769928)\n                 Predict: 0.0\n              Else (feature 27 > 0.06119423732161522)\n               If (feature 5 <= 1.5)\n                Predict: 1.0\n               Else (feature 5 > 1.5)\n                Predict: 0.0\n             Else (feature 45 > 0.22159243375062943)\n              If (feature 19 <= -3.4259999990463257)\n               If (feature 14 <= 0.46458427608013153)\n                If (feature 28 <= 0.23427226394414902)\n                 Predict: 1.0\n                Else (feature 28 > 0.23427226394414902)\n                 Predict: 0.0\n               Else (feature 14 > 0.46458427608013153)\n                Predict: 1.0\n              Else (feature 19 > -3.4259999990463257)\n               Predict: 0.0\n        Else (feature 4 > 0.5)\n         If (feature 62 <= 0.4597848802804947)\n          If (feature 30 <= 0.19462181627750397)\n           If (feature 45 <= 0.12486441805958748)\n            If (feature 62 <= 0.44094209372997284)\n             If (feature 13 <= 0.6950550675392151)\n              If (feature 13 <= 0.2572956085205078)\n               If (feature 0 <= 6.5)\n                Predict: 1.0\n               Else (feature 0 > 6.5)\n                Predict: 0.0\n              Else (feature 13 > 0.2572956085205078)\n               Predict: 0.0\n             Else (feature 13 > 0.6950550675392151)\n              If (feature 29 <= 0.2360542118549347)\n               Predict: 1.0\n              Else (feature 29 > 0.2360542118549347)\n               If (feature 0 <= 14.5)\n                Predict: 0.0\n               Else (feature 0 > 14.5)\n                Predict: 1.0\n            Else (feature 62 > 0.44094209372997284)\n             Predict: 1.0\n           Else (feature 45 > 0.12486441805958748)\n            If (feature 49 <= 9.949161529541016)\n             If (feature 34 <= 0.04494122974574566)\n              If (feature 3 <= 0.5)\n               Predict: 1.0\n              Else (feature 3 > 0.5)\n               Predict: 0.0\n             Else (feature 34 > 0.04494122974574566)\n              If (feature 18 <= 0.33402612805366516)\n               Predict: 1.0\n              Else (feature 18 > 0.33402612805366516)\n               Predict: 0.0\n            Else (feature 49 > 9.949161529541016)\n             Predict: 0.0\n          Else (feature 30 > 0.19462181627750397)\n           Predict: 1.0\n         Else (feature 62 > 0.4597848802804947)\n          If (feature 58 <= 0.09971515834331512)\n           Predict: 1.0\n          Else (feature 58 > 0.09971515834331512)\n           If (feature 56 <= 0.5585287511348724)\n            If (feature 32 <= -0.0927632674574852)\n             Predict: 1.0\n            Else (feature 32 > -0.0927632674574852)\n             If (feature 46 <= 0.5648561716079712)\n              Predict: 0.0\n             Else (feature 46 > 0.5648561716079712)\n              If (feature 0 <= 9.5)\n               Predict: 0.0\n              Else (feature 0 > 9.5)\n               Predict: 1.0\n           Else (feature 56 > 0.5585287511348724)\n            If (feature 27 <= -0.9824416935443878)\n             Predict: 1.0\n            Else (feature 27 > -0.9824416935443878)\n             Predict: 0.0\n       Else (feature 11 > 99.99990463256836)\n        If (feature 12 <= 0.01643147598952055)\n         If (feature 66 <= 0.12892434746026993)\n          Predict: 1.0\n         Else (feature 66 > 0.12892434746026993)\n          If (feature 0 <= 5.5)\n           Predict: 1.0\n          Else (feature 0 > 5.5)\n           Predict: 0.0\n        Else (feature 12 > 0.01643147598952055)\n         If (feature 39 <= 0.5)\n          If (feature 58 <= 0.11233995854854584)\n           If (feature 7 <= 17.5)\n            Predict: 0.0\n           Else (feature 7 > 17.5)\n            Predict: 1.0\n          Else (feature 58 > 0.11233995854854584)\n           If (feature 7 <= 0.5)\n            If (feature 11 <= 99.99993515014648)\n             Predict: 0.0\n            Else (feature 11 > 99.99993515014648)\n             Predict: 1.0\n           Else (feature 7 > 0.5)\n            If (feature 27 <= -0.8941865265369415)\n             If (feature 0 <= 3.5)\n              Predict: 0.0\n             Else (feature 0 > 3.5)\n              Predict: 1.0\n            Else (feature 27 > -0.8941865265369415)\n             Predict: 0.0\n         Else (feature 39 > 0.5)\n          Predict: 1.0\n     Else (feature 2 > 0.5)\n      If (feature 4 <= 0.5)\n       If (feature 72 in {0.0,2.0,3.0,4.0,5.0})\n        If (feature 72 in {0.0,2.0,4.0,5.0})\n         If (feature 6 <= 0.5)\n          If (feature 63 <= -0.9324016571044922)\n           If (feature 18 <= 0.10361728072166443)\n            Predict: 0.0\n           Else (feature 18 > 0.10361728072166443)\n            Predict: 1.0\n          Else (feature 63 > -0.9324016571044922)\n           If (feature 14 <= 0.6684020161628723)\n            If (feature 54 <= 0.08153616636991501)\n             If (feature 59 <= 0.045829083770513535)\n              Predict: 0.0\n             Else (feature 59 > 0.045829083770513535)\n              If (feature 15 <= 1.0405481457710266)\n               Predict: 1.0\n              Else (feature 15 > 1.0405481457710266)\n               Predict: 0.0\n            Else (feature 54 > 0.08153616636991501)\n             If (feature 46 <= 0.6132567524909973)\n              If (feature 47 <= 0.5934415459632874)\n               If (feature 18 <= 0.08641047775745392)\n                Predict: 1.0\n               Else (feature 18 > 0.08641047775745392)\n                If (feature 15 <= 0.9639329612255096)\n                 Predict: 1.0\n                Else (feature 15 > 0.9639329612255096)\n                 Predict: 0.0\n              Else (feature 47 > 0.5934415459632874)\n               If (feature 9 <= 177.7933349609375)\n                Predict: 0.0\n               Else (feature 9 > 177.7933349609375)\n                If (feature 45 <= 0.08523165434598923)\n                 Predict: 0.0\n                Else (feature 45 > 0.08523165434598923)\n                 Predict: 1.0\n             Else (feature 46 > 0.6132567524909973)\n              If (feature 7 <= 10.5)\n               If (feature 51 <= 1.0532960295677185)\n                If (feature 35 <= 0.5)\n                 Predict: 1.0\n                Else (feature 35 > 0.5)\n                 Predict: 0.0\n               Else (feature 51 > 1.0532960295677185)\n                Predict: 1.0\n              Else (feature 7 > 10.5)\n               If (feature 44 <= 99.99998092651367)\n                Predict: 0.0\n               Else (feature 44 > 99.99998092651367)\n                Predict: 1.0\n           Else (feature 14 > 0.6684020161628723)\n            If (feature 7 <= 1.5)\n             If (feature 13 <= 0.4646483510732651)\n              Predict: 0.0\n             Else (feature 13 > 0.4646483510732651)\n              Predict: 1.0\n            Else (feature 7 > 1.5)\n             If (feature 8 <= 0.5)\n              If (feature 45 <= 0.2565635144710541)\n               If (feature 66 <= 0.06383363902568817)\n                Predict: 0.0\n               Else (feature 66 > 0.06383363902568817)\n                Predict: 1.0\n              Else (feature 45 > 0.2565635144710541)\n               Predict: 1.0\n             Else (feature 8 > 0.5)\n              If (feature 32 <= 0.25498874485492706)\n               If (feature 10 <= 1977.5)\n                Predict: 1.0\n               Else (feature 10 > 1977.5)\n                If (feature 34 <= -0.5160327851772308)\n                 Predict: 1.0\n                Else (feature 34 > -0.5160327851772308)\n                 Predict: 0.0\n              Else (feature 32 > 0.25498874485492706)\n               If (feature 0 <= 3.5)\n                Predict: 0.0\n               Else (feature 0 > 3.5)\n                Predict: 1.0\n         Else (feature 6 > 0.5)\n          If (feature 44 <= 99.99657821655273)\n           If (feature 1 <= 19.5)\n            If (feature 58 <= 0.20250330120325089)\n             If (feature 34 <= -0.2406894788146019)\n              Predict: 0.0\n             Else (feature 34 > -0.2406894788146019)\n              Predict: 1.0\n            Else (feature 58 > 0.20250330120325089)\n             If (feature 14 <= 0.712424248456955)\n              If (feature 24 <= 147.92499542236328)\n               Predict: 0.0\n              Else (feature 24 > 147.92499542236328)\n               Predict: 1.0\n             Else (feature 14 > 0.712424248456955)\n              If (feature 24 <= 140.0844955444336)\n               Predict: 1.0\n              Else (feature 24 > 140.0844955444336)\n               Predict: 0.0\n           Else (feature 1 > 19.5)\n            If (feature 69 <= -0.21637491136789322)\n             If (feature 0 <= 18.5)\n              If (feature 13 <= 0.8852760195732117)\n               If (feature 24 <= 75.0354995727539)\n                Predict: 0.0\n               Else (feature 24 > 75.0354995727539)\n                Predict: 1.0\n              Else (feature 13 > 0.8852760195732117)\n               Predict: 0.0\n             Else (feature 0 > 18.5)\n              If (feature 3 <= 0.5)\n               Predict: 1.0\n              Else (feature 3 > 0.5)\n               Predict: 0.0\n            Else (feature 69 > -0.21637491136789322)\n             If (feature 48 <= 0.5884462296962738)\n              If (feature 12 <= 0.0037951560225337744)\n               Predict: 1.0\n              Else (feature 12 > 0.0037951560225337744)\n               Predict: 0.0\n             Else (feature 48 > 0.5884462296962738)\n              If (feature 52 <= 9.987760271612522E-11)\n               Predict: 0.0\n              Else (feature 52 > 9.987760271612522E-11)\n               If (feature 31 <= -0.3424058109521866)\n                If (feature 0 <= 3.5)\n                 Predict: 1.0\n                Else (feature 0 > 3.5)\n                 Predict: 0.0\n               Else (feature 31 > -0.3424058109521866)\n                Predict: 1.0\n          Else (feature 44 > 99.99657821655273)\n           If (feature 51 <= 1.0500061511993408)\n            If (feature 7 <= 7.5)\n             If (feature 17 <= 8.5)\n              Predict: 1.0\n             Else (feature 17 > 8.5)\n              Predict: 0.0\n            Else (feature 7 > 7.5)\n             If (feature 31 <= -0.4679854065179825)\n              Predict: 1.0\n             Else (feature 31 > -0.4679854065179825)\n              If (feature 52 <= 2.576800578468763E-10)\n               If (feature 1 <= 18.5)\n                Predict: 0.0\n               Else (feature 1 > 18.5)\n                Predict: 1.0\n              Else (feature 52 > 2.576800578468763E-10)\n               Predict: 0.0\n           Else (feature 51 > 1.0500061511993408)\n            Predict: 1.0\n        Else (feature 72 not in {0.0,2.0,4.0,5.0})\n         If (feature 48 <= 0.8481628894805908)\n          If (feature 26 <= 0.5698543190956116)\n           If (feature 34 <= 0.24964261800050735)\n            If (feature 19 <= -4.045500040054321)\n             If (feature 67 <= 0.2320280224084854)\n              If (feature 53 <= 10.5)\n               If (feature 15 <= 1.0528239607810974)\n                Predict: 1.0\n               Else (feature 15 > 1.0528239607810974)\n                If (feature 11 <= 99.99503707885742)\n                 Predict: 0.0\n                Else (feature 11 > 99.99503707885742)\n                 Predict: 1.0\n              Else (feature 53 > 10.5)\n               Predict: 0.0\n             Else (feature 67 > 0.2320280224084854)\n              If (feature 52 <= 1.1864819043694297E-5)\n               Predict: 1.0\n              Else (feature 52 > 1.1864819043694297E-5)\n               Predict: 0.0\n            Else (feature 19 > -4.045500040054321)\n             Predict: 0.0\n           Else (feature 34 > 0.24964261800050735)\n            If (feature 59 <= 0.0574272982776165)\n             If (feature 0 <= 12.5)\n              Predict: 1.0\n             Else (feature 0 > 12.5)\n              Predict: 0.0\n            Else (feature 59 > 0.0574272982776165)\n             Predict: 0.0\n          Else (feature 26 > 0.5698543190956116)\n           If (feature 56 <= 0.6794896125793457)\n            If (feature 28 <= 0.3198694884777069)\n             If (feature 15 <= 1.0018269419670105)\n              Predict: 0.0\n             Else (feature 15 > 1.0018269419670105)\n              Predict: 1.0\n            Else (feature 28 > 0.3198694884777069)\n             If (feature 65 <= 0.3973487317562103)\n              Predict: 0.0\n             Else (feature 65 > 0.3973487317562103)\n              Predict: 1.0\n           Else (feature 56 > 0.6794896125793457)\n            If (feature 34 <= -0.109706349670887)\n             If (feature 7 <= 14.5)\n              Predict: 1.0\n             Else (feature 7 > 14.5)\n              Predict: 0.0\n            Else (feature 34 > -0.109706349670887)\n             Predict: 1.0\n         Else (feature 48 > 0.8481628894805908)\n          If (feature 44 <= 99.99876022338867)\n           Predict: 0.0\n          Else (feature 44 > 99.99876022338867)\n           Predict: 1.0\n       Else (feature 72 not in {0.0,2.0,3.0,4.0,5.0})\n        If (feature 16 <= 2.228148077847436E-4)\n         If (feature 11 <= 99.90042114257812)\n          If (feature 20 <= 0.6206173598766327)\n           If (feature 10 <= 2015.5)\n            If (feature 44 <= 99.27190399169922)\n             If (feature 0 <= 9.5)\n              Predict: 0.0\n             Else (feature 0 > 9.5)\n              Predict: 1.0\n            Else (feature 44 > 99.27190399169922)\n             Predict: 0.0\n           Else (feature 10 > 2015.5)\n            If (feature 67 <= -0.16122622042894363)\n             If (feature 9 <= 175.3731689453125)\n              Predict: 0.0\n             Else (feature 9 > 175.3731689453125)\n              Predict: 1.0\n            Else (feature 67 > -0.16122622042894363)\n             If (feature 0 <= 15.5)\n              Predict: 0.0\n             Else (feature 0 > 15.5)\n              Predict: 1.0\n          Else (feature 20 > 0.6206173598766327)\n           If (feature 16 <= 1.833027880593363E-7)\n            If (feature 46 <= 0.7200815677642822)\n             Predict: 1.0\n            Else (feature 46 > 0.7200815677642822)\n             Predict: 0.0\n           Else (feature 16 > 1.833027880593363E-7)\n            If (feature 11 <= 99.8333854675293)\n             If (feature 1 <= 14.5)\n              Predict: 1.0\n             Else (feature 1 > 14.5)\n              Predict: 0.0\n            Else (feature 11 > 99.8333854675293)\n             Predict: 1.0\n         Else (feature 11 > 99.90042114257812)\n          If (feature 14 <= 0.3013847768306732)\n           If (feature 10 <= 2011.5)\n            Predict: 0.0\n           Else (feature 10 > 2011.5)\n            Predict: 1.0\n          Else (feature 14 > 0.3013847768306732)\n           If (feature 24 <= 70.10250091552734)\n            Predict: 1.0\n           Else (feature 24 > 70.10250091552734)\n            If (feature 58 <= 0.2929167300462723)\n             If (feature 51 <= 1.041516363620758)\n              If (feature 57 <= 0.5)\n               If (feature 24 <= 139.9134979248047)\n                If (feature 31 <= -0.35016433894634247)\n                 Predict: 1.0\n                Else (feature 31 > -0.35016433894634247)\n                 Predict: 0.0\n               Else (feature 24 > 139.9134979248047)\n                If (feature 16 <= 4.104828889989198E-12)\n                 Predict: 0.0\n                Else (feature 16 > 4.104828889989198E-12)\n                 Predict: 1.0\n              Else (feature 57 > 0.5)\n               If (feature 56 <= 0.6165447533130646)\n                If (feature 0 <= 12.5)\n                 Predict: 1.0\n                Else (feature 0 > 12.5)\n                 Predict: 0.0\n               Else (feature 56 > 0.6165447533130646)\n                If (feature 66 <= 0.1615082249045372)\n                 Predict: 0.0\n                Else (feature 66 > 0.1615082249045372)\n                 Predict: 1.0\n             Else (feature 51 > 1.041516363620758)\n              If (feature 51 <= 1.0532960295677185)\n               Predict: 1.0\n              Else (feature 51 > 1.0532960295677185)\n               If (feature 0 <= 2.5)\n                Predict: 1.0\n               Else (feature 0 > 2.5)\n                Predict: 0.0\n            Else (feature 58 > 0.2929167300462723)\n             If (feature 13 <= 0.8852760195732117)\n              If (feature 29 <= 0.3180622160434723)\n               If (feature 26 <= 0.9427915811538696)\n                If (feature 67 <= -0.4463137835264206)\n                 Predict: 1.0\n                Else (feature 67 > -0.4463137835264206)\n                 Predict: 0.0\n               Else (feature 26 > 0.9427915811538696)\n                Predict: 1.0\n              Else (feature 29 > 0.3180622160434723)\n               If (feature 6 <= 0.5)\n                Predict: 0.0\n               Else (feature 6 > 0.5)\n                Predict: 1.0\n             Else (feature 13 > 0.8852760195732117)\n              If (feature 0 <= 5.5)\n               Predict: 0.0\n              Else (feature 0 > 5.5)\n               Predict: 1.0\n        Else (feature 16 > 2.228148077847436E-4)\n         If (feature 0 <= 15.5)\n          If (feature 60 <= 110.93149948120117)\n           If (feature 54 <= 0.09852969273924828)\n            If (feature 19 <= -9.493500232696533)\n             If (feature 0 <= 6.5)\n              Predict: 0.0\n             Else (feature 0 > 6.5)\n              Predict: 1.0\n            Else (feature 19 > -9.493500232696533)\n             Predict: 0.0\n           Else (feature 54 > 0.09852969273924828)\n            If (feature 15 <= 0.9360563457012177)\n             Predict: 0.0\n            Else (feature 15 > 0.9360563457012177)\n             Predict: 1.0\n          Else (feature 60 > 110.93149948120117)\n           If (feature 6 <= 0.5)\n            If (feature 62 <= 0.07952682301402092)\n             Predict: 1.0\n            Else (feature 62 > 0.07952682301402092)\n             If (feature 42 <= 225.9000015258789)\n              If (feature 17 <= 0.5)\n               Predict: 1.0\n              Else (feature 17 > 0.5)\n               Predict: 0.0\n             Else (feature 42 > 225.9000015258789)\n              If (feature 34 <= 0.11076663434505463)\n               If (feature 9 <= 216.64911651611328)\n                Predict: 0.0\n               Else (feature 9 > 216.64911651611328)\n                Predict: 1.0\n              Else (feature 34 > 0.11076663434505463)\n               Predict: 1.0\n           Else (feature 6 > 0.5)\n            If (feature 55 <= -6.59850001335144)\n             If (feature 0 <= 4.5)\n              Predict: 1.0\n             Else (feature 0 > 4.5)\n              Predict: 0.0\n            Else (feature 55 > -6.59850001335144)\n             Predict: 1.0\n         Else (feature 0 > 15.5)\n          If (feature 42 <= 234.39596557617188)\n           Predict: 0.0\n          Else (feature 42 > 234.39596557617188)\n           If (feature 17 <= 2.5)\n            Predict: 1.0\n           Else (feature 17 > 2.5)\n            Predict: 0.0\n      Else (feature 4 > 0.5)\n       If (feature 5 <= 1.5)\n        If (feature 36 <= 0.5)\n         If (feature 27 <= -0.9085023701190948)\n          Predict: 0.0\n         Else (feature 27 > -0.9085023701190948)\n          If (feature 11 <= 97.48356628417969)\n           If (feature 15 <= 1.0083019733428955)\n            Predict: 0.0\n           Else (feature 15 > 1.0083019733428955)\n            Predict: 1.0\n          Else (feature 11 > 97.48356628417969)\n           Predict: 1.0\n        Else (feature 36 > 0.5)\n         If (feature 7 <= 19.5)\n          Predict: 0.0\n         Else (feature 7 > 19.5)\n          Predict: 1.0\n       Else (feature 5 > 1.5)\n        Predict: 0.0\n\n"
     ]
    }
   ],
   "source": [
    "print(bestModel.toDebugString)\n"
   ]
  },
  {
   "cell_type": "code",
   "execution_count": 0,
   "metadata": {
    "application/vnd.databricks.v1+cell": {
     "cellMetadata": {},
     "inputWidgets": {},
     "nuid": "79b44f64-4a2d-4594-8986-6686a4d35838",
     "showTitle": false,
     "title": ""
    }
   },
   "outputs": [],
   "source": [
    "cvPredDT.createOrReplaceTempView(\"finalPredictionsDT\")"
   ]
  },
  {
   "cell_type": "code",
   "execution_count": 0,
   "metadata": {
    "application/vnd.databricks.v1+cell": {
     "cellMetadata": {
      "implicitDf": true
     },
     "inputWidgets": {},
     "nuid": "3174e099-a724-4dae-8feb-6aaddb74149b",
     "showTitle": false,
     "title": ""
    }
   },
   "outputs": [],
   "source": [
    "%sql\n",
    "SELECT us_popularity_estimate, prediction, count(*) AS count\n",
    "FROM finalPredictionsDT\n",
    "GROUP BY us_popularity_estimate, prediction\n",
    "ORDER BY us_popularity_estimate DESC"
   ]
  },
  {
   "cell_type": "markdown",
   "metadata": {
    "application/vnd.databricks.v1+cell": {
     "cellMetadata": {},
     "inputWidgets": {},
     "nuid": "c94fd205-39c1-41f7-87da-67de7253506c",
     "showTitle": false,
     "title": ""
    }
   },
   "source": [
    "### Gradient-Boosted Trees (GBTs)"
   ]
  },
  {
   "cell_type": "code",
   "execution_count": 0,
   "metadata": {
    "application/vnd.databricks.v1+cell": {
     "cellMetadata": {},
     "inputWidgets": {},
     "nuid": "6232eb79-6c89-4050-9980-c3897144d349",
     "showTitle": false,
     "title": ""
    }
   },
   "outputs": [],
   "source": [
    "gbt = GBTClassifier(labelCol=\"skipped\",featuresCol='features')"
   ]
  },
  {
   "cell_type": "code",
   "execution_count": 0,
   "metadata": {
    "application/vnd.databricks.v1+cell": {
     "cellMetadata": {},
     "inputWidgets": {},
     "nuid": "1bff356a-ea00-4e3f-8549-b25a56cc47db",
     "showTitle": false,
     "title": ""
    }
   },
   "outputs": [],
   "source": [
    "# Define a grid of hyperparameters to test:\n",
    "#  - maxDepth: maximum depth of each decision tree \n",
    "#  - maxIter: iterations, or the total number of trees \n",
    "paramGrid = ParamGridBuilder()\\\n",
    "  .addGrid(gbt.maxDepth, [2, 5])\\\n",
    "  .addGrid(gbt.maxIter, [10, 100])\\\n",
    "  .build()\n",
    " \n",
    "# Define an evaluation metric.  The CrossValidator compares the true labels with predicted values for each combination of parameters, and calculates this value to determine the best model.\n",
    "bcevaluator = BinaryClassificationEvaluator(metricName=\"areaUnderROC\", rawPredictionCol=\"rawPrediction\", labelCol='skipped')\n",
    "mcEvaluator = MulticlassClassificationEvaluator(metricName=\"accuracy\",labelCol='skipped')\n",
    " \n",
    "# Declare the CrossValidator, which performs the model tuning.\n",
    "cv = CrossValidator(estimator=gbt, evaluator=bcevaluator, estimatorParamMaps=paramGrid)"
   ]
  },
  {
   "cell_type": "code",
   "execution_count": 0,
   "metadata": {
    "application/vnd.databricks.v1+cell": {
     "cellMetadata": {},
     "inputWidgets": {},
     "nuid": "8bb20d08-ef03-4fde-9049-b1e585f50d19",
     "showTitle": false,
     "title": ""
    }
   },
   "outputs": [],
   "source": [
    "pca = PCA(k=3, inputCol=\"features\", outputCol=\"pcaFeatures\")"
   ]
  },
  {
   "cell_type": "code",
   "execution_count": 0,
   "metadata": {
    "application/vnd.databricks.v1+cell": {
     "cellMetadata": {},
     "inputWidgets": {},
     "nuid": "43cb9f95-c234-46e2-9e25-ae43887e6f6d",
     "showTitle": false,
     "title": ""
    }
   },
   "outputs": [],
   "source": [
    "stagesGBT = stages + [cv]\n",
    "full_pipeline = Pipeline(stages=stagesGBT)\n",
    "pipelineModel = full_pipeline.fit(train_spdf)"
   ]
  },
  {
   "cell_type": "code",
   "execution_count": 0,
   "metadata": {
    "application/vnd.databricks.v1+cell": {
     "cellMetadata": {},
     "inputWidgets": {},
     "nuid": "6292acfe-410d-4480-99e2-a482da6f8c10",
     "showTitle": false,
     "title": ""
    }
   },
   "outputs": [],
   "source": [
    "# print(\"Explained variance by principal components:\",pipelineModel.stages[-2].explainedVariance)"
   ]
  },
  {
   "cell_type": "code",
   "execution_count": 0,
   "metadata": {
    "application/vnd.databricks.v1+cell": {
     "cellMetadata": {},
     "inputWidgets": {},
     "nuid": "e8ec54e2-62f9-4eeb-b72f-3e6e2d4d9c02",
     "showTitle": false,
     "title": ""
    }
   },
   "outputs": [],
   "source": [
    "cvPredGBT = pipelineModel.transform(test_spdf)"
   ]
  },
  {
   "cell_type": "code",
   "execution_count": 0,
   "metadata": {
    "application/vnd.databricks.v1+cell": {
     "cellMetadata": {},
     "inputWidgets": {},
     "nuid": "abe77ea0-a6c1-4dd1-939c-ca32e2e3313d",
     "showTitle": false,
     "title": ""
    }
   },
   "outputs": [],
   "source": [
    "print(f\"Area under ROC curve: {bcevaluator.evaluate(cvPredGBT)}\")\n",
    "print(f\"Accuracy: {mcEvaluator.evaluate(cvPredGBT)}\")"
   ]
  },
  {
   "cell_type": "code",
   "execution_count": 0,
   "metadata": {
    "application/vnd.databricks.v1+cell": {
     "cellMetadata": {},
     "inputWidgets": {},
     "nuid": "5275e6e2-bd72-470f-83cf-9208f797b457",
     "showTitle": false,
     "title": ""
    }
   },
   "outputs": [],
   "source": [
    "evaluator = BinaryClassificationEvaluator(rawPredictionCol=\"rawPrediction\", labelCol='skipped')\n",
    "auc       = evaluator.evaluate(cvPredGBT)\n",
    "print('AUC: ', auc)"
   ]
  },
  {
   "cell_type": "code",
   "execution_count": 0,
   "metadata": {
    "application/vnd.databricks.v1+cell": {
     "cellMetadata": {},
     "inputWidgets": {},
     "nuid": "f7166c89-8cdc-4faf-93ec-c1da5e346c88",
     "showTitle": false,
     "title": ""
    }
   },
   "outputs": [],
   "source": [
    "# cvPredGBT.createOrReplaceTempView(\"finalPredictionsGBT\")"
   ]
  },
  {
   "cell_type": "code",
   "execution_count": 0,
   "metadata": {
    "application/vnd.databricks.v1+cell": {
     "cellMetadata": {
      "implicitDf": true
     },
     "inputWidgets": {},
     "nuid": "7794e2ef-4bde-40a4-b4fc-73225816f2b9",
     "showTitle": false,
     "title": ""
    }
   },
   "outputs": [],
   "source": [
    "# %sql\n",
    "# SELECT us_popularity_estimate, prediction, count(*) AS count\n",
    "# FROM finalPredictionsGBT\n",
    "# GROUP BY us_popularity_estimate, prediction\n",
    "# ORDER BY us_popularity_estimate DESC"
   ]
  },
  {
   "cell_type": "code",
   "execution_count": 0,
   "metadata": {
    "application/vnd.databricks.v1+cell": {
     "cellMetadata": {},
     "inputWidgets": {},
     "nuid": "c840a004-dc02-4b16-aa14-7de5b6488bb3",
     "showTitle": false,
     "title": ""
    }
   },
   "outputs": [],
   "source": [
    "# best_model = cv.bestModel\n",
    "# params = best_model.extractParamMap()\n",
    "# AUC = bcevaluator.evaluate(best_model)\n",
    "# print(\"Model - AUC: {}\".format(AUC))\n",
    "# print(\"Model - Parameters: {}\".format(params))"
   ]
  },
  {
   "cell_type": "markdown",
   "metadata": {
    "application/vnd.databricks.v1+cell": {
     "cellMetadata": {},
     "inputWidgets": {},
     "nuid": "8e7bdb8f-9c96-414e-905a-4f48b9676538",
     "showTitle": false,
     "title": ""
    }
   },
   "source": [
    "### Support Vector Machine"
   ]
  },
  {
   "cell_type": "code",
   "execution_count": 0,
   "metadata": {
    "application/vnd.databricks.v1+cell": {
     "cellMetadata": {},
     "inputWidgets": {},
     "nuid": "6bec5739-d34f-4cff-8d21-1d2a9ea8b1dc",
     "showTitle": false,
     "title": ""
    }
   },
   "outputs": [],
   "source": [
    "pca = PCA(k=3, inputCol=\"features\", outputCol=\"pcaFeatures\")"
   ]
  },
  {
   "cell_type": "code",
   "execution_count": 0,
   "metadata": {
    "application/vnd.databricks.v1+cell": {
     "cellMetadata": {},
     "inputWidgets": {},
     "nuid": "90636a9d-a37c-4187-ac2a-f9bb40c3513d",
     "showTitle": false,
     "title": ""
    }
   },
   "outputs": [],
   "source": [
    "%%time\n",
    "svm = LinearSVC(labelCol=\"skipped\", featuresCol='pcaFeatures')\n",
    "\n",
    "# Define a grid of hyperparameters to test:\n",
    "\n",
    "paramGrid = ParamGridBuilder()\\\n",
    "    .addGrid(svm.regParam, [0.01, 0.1])\\\n",
    "    .addGrid(svm.maxIter, [10, 100])\\\n",
    "    .addGrid(svm.fitIntercept, [True])\\\n",
    "    .addGrid(svm.aggregationDepth, [2])\\\n",
    "    .build()\n",
    "\n",
    "bcevaluator = BinaryClassificationEvaluator(metricName=\"areaUnderROC\", rawPredictionCol=\"rawPrediction\", labelCol='skipped')\n",
    "mcEvaluator = MulticlassClassificationEvaluator(metricName=\"accuracy\",labelCol='skipped')\n",
    "\n",
    "# Declare the CrossValidator, which performs the model tuning.\n",
    "cv = CrossValidator(estimator=svm, evaluator=bcevaluator, estimatorParamMaps=paramGrid)\n",
    "\n",
    "stagesSVM = stages  + [cv]\n",
    "full_pipeline = Pipeline(stages=stagesSVM)\n",
    "pipelineModel = full_pipeline.fit(train_spdf)"
   ]
  },
  {
   "cell_type": "code",
   "execution_count": 0,
   "metadata": {
    "application/vnd.databricks.v1+cell": {
     "cellMetadata": {},
     "inputWidgets": {},
     "nuid": "5f5538da-64f7-4600-b75a-e805005250a3",
     "showTitle": false,
     "title": ""
    }
   },
   "outputs": [],
   "source": [
    "cvPredSVM = pipelineModel.transform(test_spdf)"
   ]
  },
  {
   "cell_type": "code",
   "execution_count": 0,
   "metadata": {
    "application/vnd.databricks.v1+cell": {
     "cellMetadata": {},
     "inputWidgets": {},
     "nuid": "1f10202e-0de7-4e6d-b820-a6697d2667f1",
     "showTitle": false,
     "title": ""
    }
   },
   "outputs": [],
   "source": [
    "print(f\"Area under ROC curve: {bcevaluator.evaluate(cvPredSVM)}\")\n",
    "print(f\"Accuracy: {mcEvaluator.evaluate(cvPredSVM)}\")"
   ]
  },
  {
   "cell_type": "code",
   "execution_count": 0,
   "metadata": {
    "application/vnd.databricks.v1+cell": {
     "cellMetadata": {},
     "inputWidgets": {},
     "nuid": "2b489ddf-cd9f-4e2c-ae7c-44d294f43d92",
     "showTitle": false,
     "title": ""
    }
   },
   "outputs": [],
   "source": [
    "evaluator = BinaryClassificationEvaluator(rawPredictionCol=\"rawPrediction\", labelCol='skipped')\n",
    "auc       = evaluator.evaluate(cvPredSVM)\n",
    "print('AUC: ', auc)"
   ]
  },
  {
   "cell_type": "code",
   "execution_count": 0,
   "metadata": {
    "application/vnd.databricks.v1+cell": {
     "cellMetadata": {},
     "inputWidgets": {},
     "nuid": "c2967467-0c54-4ec7-a163-acc6d1dd3922",
     "showTitle": false,
     "title": ""
    }
   },
   "outputs": [],
   "source": [
    "cvPredSVM.createOrReplaceTempView(\"finalPredictionsSVM\")"
   ]
  },
  {
   "cell_type": "code",
   "execution_count": 0,
   "metadata": {
    "application/vnd.databricks.v1+cell": {
     "cellMetadata": {
      "implicitDf": true
     },
     "inputWidgets": {},
     "nuid": "7fb853c4-f202-49d7-aa29-20ac6aefb938",
     "showTitle": false,
     "title": ""
    }
   },
   "outputs": [],
   "source": [
    "# %sql\n",
    "# SELECT us_popularity_estimate, prediction, count(*) AS count\n",
    "# FROM finalPredictionsSVM\n",
    "# GROUP BY us_popularity_estimate, prediction\n",
    "# ORDER BY us_popularity_estimate DESC"
   ]
  },
  {
   "cell_type": "code",
   "execution_count": 0,
   "metadata": {
    "application/vnd.databricks.v1+cell": {
     "cellMetadata": {},
     "inputWidgets": {},
     "nuid": "f7811621-bcff-485d-a8fe-e4b03e8cb9f3",
     "showTitle": false,
     "title": ""
    }
   },
   "outputs": [],
   "source": [
    "# best_model = cv.bestModel\n",
    "# params = best_model.extractParamMap()\n",
    "# AUC = bcevaluator.evaluate(best_model)\n",
    "# print(\"Model - AUC: {}\".format(AUC))\n",
    "# print(\"Model - Parameters: {}\".format(params))"
   ]
  },
  {
   "cell_type": "markdown",
   "metadata": {
    "application/vnd.databricks.v1+cell": {
     "cellMetadata": {},
     "inputWidgets": {},
     "nuid": "62608499-85f5-4350-b3a7-c89c9d500750",
     "showTitle": false,
     "title": ""
    }
   },
   "source": [
    "### Naive Bayes Classifier"
   ]
  },
  {
   "cell_type": "code",
   "execution_count": 0,
   "metadata": {
    "application/vnd.databricks.v1+cell": {
     "cellMetadata": {},
     "inputWidgets": {},
     "nuid": "f2b1dc44-11d9-4137-84d8-501ca0553cc8",
     "showTitle": false,
     "title": ""
    }
   },
   "outputs": [],
   "source": [
    "train_spdf.count()"
   ]
  },
  {
   "cell_type": "code",
   "execution_count": 0,
   "metadata": {
    "application/vnd.databricks.v1+cell": {
     "cellMetadata": {},
     "inputWidgets": {},
     "nuid": "6e3dbdba-1a5a-46dd-9824-cc54bd09d31e",
     "showTitle": false,
     "title": ""
    }
   },
   "outputs": [],
   "source": [
    "pca = PCA(k=3, inputCol=\"features\", outputCol=\"pcaFeatures\")"
   ]
  },
  {
   "cell_type": "code",
   "execution_count": 0,
   "metadata": {
    "application/vnd.databricks.v1+cell": {
     "cellMetadata": {},
     "inputWidgets": {},
     "nuid": "3ced2087-83ae-4c0b-95ee-2bdc5b5ff3c9",
     "showTitle": false,
     "title": ""
    }
   },
   "outputs": [],
   "source": [
    "%%time\n",
    "nb = NaiveBayes(labelCol=\"skipped\", featuresCol='features')\n",
    "\n",
    "paramGrid = ParamGridBuilder().addGrid(nb.smoothing, [0.0, 0.2, 0.4, 0.6, 0.8, 1.0]).build()\n",
    "\n",
    "bcevaluator = BinaryClassificationEvaluator(metricName=\"areaUnderROC\", rawPredictionCol=\"rawPrediction\", labelCol='skipped')\n",
    "mcEvaluator = MulticlassClassificationEvaluator(metricName=\"accuracy\",labelCol='skipped')\n",
    "\n",
    "cv = CrossValidator(estimator=nb, evaluator=bcevaluator, estimatorParamMaps=paramGrid)\n",
    "\n",
    "stagesNB = stages  + [cv]\n",
    "full_pipelineNB = Pipeline(stages=stagesNB)\n",
    "pipelineModelNB = full_pipelineNB.fit(train_spdf)"
   ]
  },
  {
   "cell_type": "code",
   "execution_count": 0,
   "metadata": {
    "application/vnd.databricks.v1+cell": {
     "cellMetadata": {},
     "inputWidgets": {},
     "nuid": "a5c00802-30c7-4d99-85eb-a021c30d392a",
     "showTitle": false,
     "title": ""
    }
   },
   "outputs": [],
   "source": [
    "assembler_inputs"
   ]
  },
  {
   "cell_type": "code",
   "execution_count": 0,
   "metadata": {
    "application/vnd.databricks.v1+cell": {
     "cellMetadata": {},
     "inputWidgets": {},
     "nuid": "539a2548-ed4e-4290-8fc9-77cfe66a253a",
     "showTitle": false,
     "title": ""
    }
   },
   "outputs": [],
   "source": [
    "explained_variance = pipelineModel.stages[-2].explainedVariance\n",
    "print(explained_variance)"
   ]
  },
  {
   "cell_type": "code",
   "execution_count": 0,
   "metadata": {
    "application/vnd.databricks.v1+cell": {
     "cellMetadata": {},
     "inputWidgets": {},
     "nuid": "e5d41d17-9c3a-4850-af4c-5ded4f46f0e9",
     "showTitle": false,
     "title": ""
    }
   },
   "outputs": [],
   "source": [
    "cvPredNB = pipelineModel.transform(test_spdf)\n",
    "\n",
    "print(f\"Area under ROC curve: {bcevaluator.evaluate(cvPredNB)}\")\n",
    "print(f\"Accuracy: {mcEvaluator.evaluate(cvPredNB)}\")"
   ]
  },
  {
   "cell_type": "code",
   "execution_count": 0,
   "metadata": {
    "application/vnd.databricks.v1+cell": {
     "cellMetadata": {},
     "inputWidgets": {},
     "nuid": "6a7f6875-0195-4c92-9c22-5d731bf44212",
     "showTitle": false,
     "title": ""
    }
   },
   "outputs": [],
   "source": [
    "evaluator = BinaryClassificationEvaluator(rawPredictionCol=\"rawPrediction\", labelCol='skipped')\n",
    "auc       = evaluator.evaluate(cvPredNB)\n",
    "print('AUC: ', auc)"
   ]
  },
  {
   "cell_type": "code",
   "execution_count": 0,
   "metadata": {
    "application/vnd.databricks.v1+cell": {
     "cellMetadata": {},
     "inputWidgets": {},
     "nuid": "dabefe0f-9539-4bbc-b39e-55620db7ec5f",
     "showTitle": false,
     "title": ""
    }
   },
   "outputs": [],
   "source": [
    "cvPredNB.createOrReplaceTempView(\"finalPredictionsNB\")"
   ]
  },
  {
   "cell_type": "markdown",
   "metadata": {
    "application/vnd.databricks.v1+cell": {
     "cellMetadata": {},
     "inputWidgets": {},
     "nuid": "8d896cb2-5c44-4b78-8f35-b8a999530c80",
     "showTitle": false,
     "title": ""
    }
   },
   "source": [
    "### LightGBM Classifier"
   ]
  },
  {
   "cell_type": "code",
   "execution_count": 0,
   "metadata": {
    "application/vnd.databricks.v1+cell": {
     "cellMetadata": {},
     "inputWidgets": {},
     "nuid": "a651318a-3ef0-406c-9baf-70dd1f979c6a",
     "showTitle": false,
     "title": ""
    }
   },
   "outputs": [],
   "source": [
    "pip install mmlspark"
   ]
  },
  {
   "cell_type": "code",
   "execution_count": 0,
   "metadata": {
    "application/vnd.databricks.v1+cell": {
     "cellMetadata": {},
     "inputWidgets": {},
     "nuid": "3bb05d50-20ac-4d44-949a-6bdf97f1906d",
     "showTitle": false,
     "title": ""
    }
   },
   "outputs": [],
   "source": [
    "from mmlspark import LightGBMRegressor\n",
    "\n",
    "lgbm = LightGBMClassifier(labelCol=\"skipped\", featuresCol='features')\n"
   ]
  },
  {
   "cell_type": "code",
   "execution_count": 0,
   "metadata": {
    "application/vnd.databricks.v1+cell": {
     "cellMetadata": {},
     "inputWidgets": {},
     "nuid": "b5894143-ae20-4e38-89ce-283ba058bfc1",
     "showTitle": false,
     "title": ""
    }
   },
   "outputs": [],
   "source": [
    "# Start an MLflow run\n",
    "with mlflow.start_run():\n",
    "    # Log the pipeline and parameters\n",
    "    mlflow.log_param(\"regParam\", lgbm.regParam)\n",
    "    mlflow.log_param(\"maxIter\", lgbm.maxIter)\n",
    "    mlflow.log_param(\"fitIntercept\", lgbm.fitIntercept)\n",
    "    mlflow.log_param(\"aggregationDepth\", lgbm.aggregationDepth)\n",
    "    # Define a grid of hyperparameters to test:\n",
    "\n",
    "    # Define a grid of hyperparameters to test:\n",
    "\n",
    "    paramGrid = ParamGridBuilder()\\\n",
    "        .addGrid(lgbm.regParam, [0.01, 0.1])\\\n",
    "        .addGrid(lgbm.maxIter, [10, 100])\\\n",
    "        .addGrid(lgbm.fitIntercept, [True])\\\n",
    "        .addGrid(lgbm.aggregationDepth, [2])\\\n",
    "        .build()\n",
    "\n",
    "    bcevaluator = BinaryClassificationEvaluator(metricName=\"areaUnderROC\", rawPredictionCol=\"rawPrediction\", labelCol='skipped')\n",
    "   # mcEvaluator = MulticlassClassificationEvaluator(metricName=\"accuracy\")\n",
    "\n",
    "    # Declare the CrossValidator, which performs the model tuning.\n",
    "    cv = CrossValidator(estimator=lgbm, evaluator=bcevaluator, estimatorParamMaps=paramGrid)\n",
    "\n",
    "    stages = stages + [cv]\n",
    "    full_pipeline = Pipeline(stages=stages)\n",
    "    pipelineModel = full_pipeline.fit(train_spdf)\n",
    "\n",
    "    # Extract the best model from the CrossValidator\n",
    "    bestModel = pipelineModel.stages[-1].bestModel\n",
    "    # Evaluate the best model\n",
    "    predictions = bestModel.transform(test_spdf)\n",
    "    # Log the evaluation metrics\n",
    "    mlflow.log_metric(\"areaUnderROC\", bcevaluator.evaluate(predictions))\n",
    "    mlflow.log_metric(\"accuracy\", mcEvaluator.evaluate(predictions))\n"
   ]
  },
  {
   "cell_type": "code",
   "execution_count": 0,
   "metadata": {
    "application/vnd.databricks.v1+cell": {
     "cellMetadata": {},
     "inputWidgets": {},
     "nuid": "dff52792-7b96-44cf-8039-0ef99fc88a2a",
     "showTitle": false,
     "title": ""
    }
   },
   "outputs": [],
   "source": [
    "stagesLGBM = stages + [pca] + [cv]\n",
    "full_pipeline = Pipeline(stages=stagesLGBM)\n",
    "pipelineModel = full_pipeline.fit(train_spdf)"
   ]
  },
  {
   "cell_type": "code",
   "execution_count": 0,
   "metadata": {
    "application/vnd.databricks.v1+cell": {
     "cellMetadata": {},
     "inputWidgets": {},
     "nuid": "7b5a392d-63df-4dbe-a4dd-4c9d5bb99eeb",
     "showTitle": false,
     "title": ""
    }
   },
   "outputs": [],
   "source": [
    "cvPredLGBM = pipelineModel.transform(test_spdf)\n",
    "\n",
    "print(f\"Area under ROC curve: {bcevaluator.evaluate(cvPredLGBM)}\")"
   ]
  },
  {
   "cell_type": "markdown",
   "metadata": {
    "application/vnd.databricks.v1+cell": {
     "cellMetadata": {},
     "inputWidgets": {},
     "nuid": "aed2b479-0299-4dff-91ab-9ceb3bc10e3b",
     "showTitle": false,
     "title": ""
    }
   },
   "source": [
    "###Random Forest"
   ]
  },
  {
   "cell_type": "code",
   "execution_count": 0,
   "metadata": {
    "application/vnd.databricks.v1+cell": {
     "cellMetadata": {},
     "inputWidgets": {},
     "nuid": "ff64125c-a4f4-465d-acba-0db698466ecd",
     "showTitle": false,
     "title": ""
    }
   },
   "outputs": [],
   "source": [
    "# define parameters\n",
    "numTrees         = [5, 10, 50, 100]\n",
    "subsamplingRate  = [0.8]\n",
    "maxDepth         = [10, 15]\n",
    "experiments      = list(itertools.product(numTrees, maxDepth, subsamplingRate))\n",
    "print(len(experiments))"
   ]
  },
  {
   "cell_type": "code",
   "execution_count": 0,
   "metadata": {
    "application/vnd.databricks.v1+cell": {
     "cellMetadata": {},
     "inputWidgets": {},
     "nuid": "a9403fd8-d84f-456f-9d9c-f1d5d741cacd",
     "showTitle": false,
     "title": ""
    }
   },
   "outputs": [],
   "source": [
    "for ind, experiment in enumerate(experiments):\n",
    "    numTrees = experiment[0]\n",
    "    maxDepth = experiment[1]\n",
    "    subsamplingRate = experiment[2]\n",
    "\n",
    "    start_time = time.time()\n",
    "    print(ind)\n",
    "    print('params: ', numTrees, maxDepth, subsamplingRate)\n",
    "    \n",
    "    # Create an initial RandomForest model.\n",
    "    rf = RandomForestClassifier(labelCol=\"skipped\", featuresCol=\"features\", \n",
    "                                numTrees=numTrees, \n",
    "                                maxDepth=maxDepth,\n",
    "                                subsamplingRate=subsamplingRate)\n",
    "    \n",
    "    # Train model with Training Data\n",
    "    stagesRF = stages + [rf]\n",
    "    rfpipeline = Pipeline(stages=stages)\n",
    "    rfModel = rfpipeline.fit(train_spdf)\n",
    "    \n",
    "    # Make predictions on validation data using the transform() method.\n",
    "    # LogisticRegression.transform() will only use the 'features' column.\n",
    "    predictions = rfModel.transform(test_spdf)\n",
    "    \n",
    "    # evaluate predictions\n",
    "    evaluator = BinaryClassificationEvaluator(rawPredictionCol=\"rawPrediction\", labelCol='skipped')\n",
    "    mcEvaluator = MulticlassClassificationEvaluator(metricName=\"accuracy\",labelCol='skipped')\n",
    "    auc       = evaluator.evaluate(predictions)\n",
    "    \n",
    "    print('AUC: ', auc)\n",
    "    print(f\"Accuracy: {mcEvaluator.evaluate(predictions)}\")\n",
    "    print(\"--- %s seconds ---\" % (time.time() - start_time))"
   ]
  },
  {
   "cell_type": "code",
   "execution_count": 0,
   "metadata": {
    "application/vnd.databricks.v1+cell": {
     "cellMetadata": {},
     "inputWidgets": {},
     "nuid": "3db4cb56-7b28-4c22-af29-669dc1f053ba",
     "showTitle": false,
     "title": ""
    }
   },
   "outputs": [],
   "source": [
    "cvPredRF = rfModel.transform(test_spdf)\n",
    "\n",
    "print(f\"Area under ROC curve: {bcevaluator.evaluate(cvPredNB)}\")\n",
    "print(f\"Accuracy: {mcEvaluator.evaluate(cvPredNB)}\")"
   ]
  },
  {
   "cell_type": "code",
   "execution_count": 0,
   "metadata": {
    "application/vnd.databricks.v1+cell": {
     "cellMetadata": {},
     "inputWidgets": {},
     "nuid": "e23132f4-232f-48c8-b740-d3d8eabb57e2",
     "showTitle": false,
     "title": ""
    }
   },
   "outputs": [],
   "source": [
    "#test"
   ]
  },
  {
   "cell_type": "code",
   "execution_count": 0,
   "metadata": {
    "application/vnd.databricks.v1+cell": {
     "cellMetadata": {},
     "inputWidgets": {},
     "nuid": "f256762e-c468-4c34-95bc-8191a962a41c",
     "showTitle": false,
     "title": ""
    }
   },
   "outputs": [],
   "source": []
  }
 ],
 "metadata": {
  "application/vnd.databricks.v1+notebook": {
   "dashboards": [],
   "language": "python",
   "notebookMetadata": {
    "mostRecentlyExecutedCommandWithImplicitDF": {
     "commandId": 2823501255253315,
     "dataframes": [
      "_sqldf"
     ]
    },
    "pythonIndentUnit": 4
   },
   "notebookName": "2.Model_testing_spotify",
   "widgets": {}
  }
 },
 "nbformat": 4,
 "nbformat_minor": 0
}
